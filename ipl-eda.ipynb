{
 "cells": [
  {
   "cell_type": "markdown",
   "metadata": {
    "id": "q6_WAa77TSvS"
   },
   "source": [
    "# IPL Explarotary Data Analysis\n",
    "\n"
   ]
  },
  {
   "cell_type": "code",
   "execution_count": 1,
   "metadata": {
    "colab": {
     "base_uri": "https://localhost:8080/"
    },
    "executionInfo": {
     "elapsed": 8261,
     "status": "ok",
     "timestamp": 1670495918996,
     "user": {
      "displayName": "Mohit Kumar",
      "userId": "03888987891614882912"
     },
     "user_tz": -330
    },
    "id": "VzPvdVsJTSvb",
    "outputId": "b4092a47-6575-4469-8ac8-bd945e8a497d"
   },
   "outputs": [
    {
     "name": "stdout",
     "output_type": "stream",
     "text": [
      "\u001b[?25l\r",
      "\u001b[K     |████▊                           | 10 kB 23.8 MB/s eta 0:00:01\r",
      "\u001b[K     |█████████▌                      | 20 kB 6.0 MB/s eta 0:00:01\r",
      "\u001b[K     |██████████████▎                 | 30 kB 8.5 MB/s eta 0:00:01\r",
      "\u001b[K     |███████████████████             | 40 kB 10.7 MB/s eta 0:00:01\r",
      "\u001b[K     |███████████████████████▉        | 51 kB 12.8 MB/s eta 0:00:01\r",
      "\u001b[K     |████████████████████████████▋   | 61 kB 14.8 MB/s eta 0:00:01\r",
      "\u001b[K     |████████████████████████████████| 68 kB 2.2 MB/s \n",
      "\u001b[?25h  Building wheel for uuid (setup.py) ... \u001b[?25l\u001b[?25hdone\n"
     ]
    }
   ],
   "source": [
    "!pip install jovian --upgrade --quiet"
   ]
  },
  {
   "cell_type": "code",
   "execution_count": 6,
   "metadata": {
    "executionInfo": {
     "elapsed": 4255,
     "status": "ok",
     "timestamp": 1670496024378,
     "user": {
      "displayName": "Mohit Kumar",
      "userId": "03888987891614882912"
     },
     "user_tz": -330
    },
    "id": "hqelt7ngUkuW"
   },
   "outputs": [],
   "source": [
    "pip install opendatasets --upgrade --quiet"
   ]
  },
  {
   "cell_type": "code",
   "execution_count": 2,
   "metadata": {
    "executionInfo": {
     "elapsed": 26,
     "status": "ok",
     "timestamp": 1670495918999,
     "user": {
      "displayName": "Mohit Kumar",
      "userId": "03888987891614882912"
     },
     "user_tz": -330
    },
    "id": "rRaVsVvpUDHp"
   },
   "outputs": [],
   "source": [
    "import jovian"
   ]
  },
  {
   "cell_type": "markdown",
   "metadata": {
    "id": "MO29KwbkUGzW"
   },
   "source": [
    "Import Relevant Libraries"
   ]
  },
  {
   "cell_type": "code",
   "execution_count": 7,
   "metadata": {
    "executionInfo": {
     "elapsed": 704,
     "status": "ok",
     "timestamp": 1670496035107,
     "user": {
      "displayName": "Mohit Kumar",
      "userId": "03888987891614882912"
     },
     "user_tz": -330
    },
    "id": "mYZmdGihUFk2"
   },
   "outputs": [],
   "source": [
    "import pandas as pd\n",
    "import numpy as np\n",
    "import matplotlib.pyplot as plt\n",
    "import seaborn as sns\n",
    "import opendatasets as od"
   ]
  },
  {
   "cell_type": "markdown",
   "metadata": {
    "id": "Uoa1EjOhUsM0"
   },
   "source": [
    "Download the data"
   ]
  },
  {
   "cell_type": "code",
   "execution_count": 8,
   "metadata": {
    "executionInfo": {
     "elapsed": 8,
     "status": "ok",
     "timestamp": 1670496065599,
     "user": {
      "displayName": "Mohit Kumar",
      "userId": "03888987891614882912"
     },
     "user_tz": -330
    },
    "id": "q2HTEJnXUUkY"
   },
   "outputs": [],
   "source": [
    "file_url = 'https://www.kaggle.com/datasets/ramjidoolla/ipl-data-set'"
   ]
  },
  {
   "cell_type": "code",
   "execution_count": 9,
   "metadata": {
    "colab": {
     "base_uri": "https://localhost:8080/"
    },
    "executionInfo": {
     "elapsed": 24277,
     "status": "ok",
     "timestamp": 1670496103157,
     "user": {
      "displayName": "Mohit Kumar",
      "userId": "03888987891614882912"
     },
     "user_tz": -330
    },
    "id": "7mbNEzToUxOw",
    "outputId": "aadbb17a-d7a3-404f-94fd-317f41ea6a6f"
   },
   "outputs": [
    {
     "name": "stdout",
     "output_type": "stream",
     "text": [
      "Please provide your Kaggle credentials to download this dataset. Learn more: http://bit.ly/kaggle-creds\n",
      "Your Kaggle username: mohitkmr95\n",
      "Your Kaggle Key: ··········\n",
      "Downloading ipl-data-set.zip to ./ipl-data-set\n"
     ]
    },
    {
     "name": "stderr",
     "output_type": "stream",
     "text": [
      "100%|██████████| 1.24M/1.24M [00:00<00:00, 81.7MB/s]"
     ]
    },
    {
     "name": "stdout",
     "output_type": "stream",
     "text": [
      "\n"
     ]
    },
    {
     "name": "stderr",
     "output_type": "stream",
     "text": [
      "\n"
     ]
    }
   ],
   "source": [
    "od.download(file_url)"
   ]
  },
  {
   "cell_type": "markdown",
   "metadata": {
    "id": "PTOAPymEWjiV"
   },
   "source": [
    "Loading data into Pandas"
   ]
  },
  {
   "cell_type": "code",
   "execution_count": 12,
   "metadata": {
    "executionInfo": {
     "elapsed": 620,
     "status": "ok",
     "timestamp": 1670496522892,
     "user": {
      "displayName": "Mohit Kumar",
      "userId": "03888987891614882912"
     },
     "user_tz": -330
    },
    "id": "bK8cXpiVU0b7"
   },
   "outputs": [],
   "source": [
    "players = pd.read_excel('/content/ipl-data-set/Players.xlsx')\n",
    "deliveries = pd.read_csv('/content/ipl-data-set/deliveries.csv')\n",
    "matches = pd.read_csv('/content/ipl-data-set/matches.csv')\n",
    "mrst = pd.read_csv('/content/ipl-data-set/most_runs_average_strikerate.csv')\n",
    "teams = pd.read_csv('/content/ipl-data-set/teams.csv')\n",
    "team_home_away = pd.read_csv('/content/ipl-data-set/teamwise_home_and_away.csv')"
   ]
  },
  {
   "cell_type": "markdown",
   "metadata": {
    "id": "oDW6ZYy9WmUH"
   },
   "source": [
    "Viewing Data"
   ]
  },
  {
   "cell_type": "markdown",
   "metadata": {
    "id": "Jh-_fel4XkbG"
   },
   "source": [
    "## Players Table"
   ]
  },
  {
   "cell_type": "code",
   "execution_count": 112,
   "metadata": {
    "colab": {
     "base_uri": "https://localhost:8080/"
    },
    "executionInfo": {
     "elapsed": 1139,
     "status": "ok",
     "timestamp": 1670505736884,
     "user": {
      "displayName": "Mohit Kumar",
      "userId": "03888987891614882912"
     },
     "user_tz": -330
    },
    "id": "yTj1cy9yVPMa",
    "outputId": "0c407adc-925e-496f-83b8-313c5e2a2210"
   },
   "outputs": [
    {
     "name": "stdout",
     "output_type": "stream",
     "text": [
      "<class 'pandas.core.frame.DataFrame'>\n",
      "RangeIndex: 566 entries, 0 to 565\n",
      "Data columns (total 6 columns):\n",
      " #   Column         Non-Null Count  Dtype         \n",
      "---  ------         --------------  -----         \n",
      " 0   Player_Name    566 non-null    object        \n",
      " 1   DOB            471 non-null    datetime64[ns]\n",
      " 2   Batting_Hand   563 non-null    object        \n",
      " 3   Bowling_Skill  502 non-null    object        \n",
      " 4   Country        471 non-null    object        \n",
      " 5   Age            471 non-null    float64       \n",
      "dtypes: datetime64[ns](1), float64(1), object(4)\n",
      "memory usage: 26.7+ KB\n"
     ]
    }
   ],
   "source": [
    "players.info()"
   ]
  },
  {
   "cell_type": "markdown",
   "metadata": {
    "id": "y6_ZvpPIj0Yq"
   },
   "source": [
    "Missing Values"
   ]
  },
  {
   "cell_type": "code",
   "execution_count": 113,
   "metadata": {
    "executionInfo": {
     "elapsed": 23,
     "status": "ok",
     "timestamp": 1670505737306,
     "user": {
      "displayName": "Mohit Kumar",
      "userId": "03888987891614882912"
     },
     "user_tz": -330
    },
    "id": "k2zi0rAYjqvM"
   },
   "outputs": [],
   "source": [
    "percent_missing = players.isnull().sum() * 100 / len(players)"
   ]
  },
  {
   "cell_type": "code",
   "execution_count": 114,
   "metadata": {
    "colab": {
     "base_uri": "https://localhost:8080/"
    },
    "executionInfo": {
     "elapsed": 23,
     "status": "ok",
     "timestamp": 1670505737307,
     "user": {
      "displayName": "Mohit Kumar",
      "userId": "03888987891614882912"
     },
     "user_tz": -330
    },
    "id": "hg4tzJVcjvYm",
    "outputId": "07ef686a-62e4-4666-e75b-06ca3eb618d1"
   },
   "outputs": [
    {
     "name": "stdout",
     "output_type": "stream",
     "text": [
      "Player_Name       0.000000\n",
      "DOB              16.784452\n",
      "Batting_Hand      0.530035\n",
      "Bowling_Skill    11.307420\n",
      "Country          16.784452\n",
      "Age              16.784452\n",
      "dtype: float64\n"
     ]
    }
   ],
   "source": [
    "print(percent_missing)"
   ]
  },
  {
   "cell_type": "code",
   "execution_count": 115,
   "metadata": {
    "colab": {
     "base_uri": "https://localhost:8080/",
     "height": 520
    },
    "executionInfo": {
     "elapsed": 24,
     "status": "ok",
     "timestamp": 1670505737310,
     "user": {
      "displayName": "Mohit Kumar",
      "userId": "03888987891614882912"
     },
     "user_tz": -330
    },
    "id": "QMOiwR05Xh8G",
    "outputId": "7659b10c-c66d-4a91-e2c2-81ad55f9d0b9"
   },
   "outputs": [
    {
     "data": {
      "text/html": [
       "\n",
       "  <div id=\"df-12b53a2b-17d1-42f1-bbea-0d9e9dc811ff\">\n",
       "    <div class=\"colab-df-container\">\n",
       "      <div>\n",
       "<style scoped>\n",
       "    .dataframe tbody tr th:only-of-type {\n",
       "        vertical-align: middle;\n",
       "    }\n",
       "\n",
       "    .dataframe tbody tr th {\n",
       "        vertical-align: top;\n",
       "    }\n",
       "\n",
       "    .dataframe thead th {\n",
       "        text-align: right;\n",
       "    }\n",
       "</style>\n",
       "<table border=\"1\" class=\"dataframe\">\n",
       "  <thead>\n",
       "    <tr style=\"text-align: right;\">\n",
       "      <th></th>\n",
       "      <th>Player_Name</th>\n",
       "      <th>DOB</th>\n",
       "      <th>Batting_Hand</th>\n",
       "      <th>Bowling_Skill</th>\n",
       "      <th>Country</th>\n",
       "      <th>Age</th>\n",
       "    </tr>\n",
       "  </thead>\n",
       "  <tbody>\n",
       "    <tr>\n",
       "      <th>0</th>\n",
       "      <td>A Ashish Reddy</td>\n",
       "      <td>1991-02-24</td>\n",
       "      <td>Right_Hand</td>\n",
       "      <td>Right-arm medium</td>\n",
       "      <td>India</td>\n",
       "      <td>31.0</td>\n",
       "    </tr>\n",
       "    <tr>\n",
       "      <th>1</th>\n",
       "      <td>A Chandila</td>\n",
       "      <td>1983-12-05</td>\n",
       "      <td>Right_Hand</td>\n",
       "      <td>Right-arm offbreak</td>\n",
       "      <td>India</td>\n",
       "      <td>39.0</td>\n",
       "    </tr>\n",
       "    <tr>\n",
       "      <th>2</th>\n",
       "      <td>A Chopra</td>\n",
       "      <td>1977-09-19</td>\n",
       "      <td>Right_Hand</td>\n",
       "      <td>Right-arm offbreak</td>\n",
       "      <td>India</td>\n",
       "      <td>45.0</td>\n",
       "    </tr>\n",
       "    <tr>\n",
       "      <th>3</th>\n",
       "      <td>A Choudhary</td>\n",
       "      <td>NaT</td>\n",
       "      <td>Right_Hand</td>\n",
       "      <td>Left-arm fast-medium</td>\n",
       "      <td>NaN</td>\n",
       "      <td>NaN</td>\n",
       "    </tr>\n",
       "    <tr>\n",
       "      <th>4</th>\n",
       "      <td>A Dananjaya</td>\n",
       "      <td>NaT</td>\n",
       "      <td>Right_Hand</td>\n",
       "      <td>Right-arm offbreak</td>\n",
       "      <td>NaN</td>\n",
       "      <td>NaN</td>\n",
       "    </tr>\n",
       "    <tr>\n",
       "      <th>5</th>\n",
       "      <td>A Flintoff</td>\n",
       "      <td>1977-12-06</td>\n",
       "      <td>Right_Hand</td>\n",
       "      <td>Right-arm fast-medium</td>\n",
       "      <td>England</td>\n",
       "      <td>45.0</td>\n",
       "    </tr>\n",
       "    <tr>\n",
       "      <th>6</th>\n",
       "      <td>A Hales</td>\n",
       "      <td>NaT</td>\n",
       "      <td>Right_Hand</td>\n",
       "      <td>NaN</td>\n",
       "      <td>NaN</td>\n",
       "      <td>NaN</td>\n",
       "    </tr>\n",
       "    <tr>\n",
       "      <th>7</th>\n",
       "      <td>A Joseph</td>\n",
       "      <td>NaT</td>\n",
       "      <td>Right_Hand</td>\n",
       "      <td>Right-arm fast</td>\n",
       "      <td>NaN</td>\n",
       "      <td>NaN</td>\n",
       "    </tr>\n",
       "    <tr>\n",
       "      <th>8</th>\n",
       "      <td>A Kumble</td>\n",
       "      <td>1970-10-17</td>\n",
       "      <td>Right_Hand</td>\n",
       "      <td>Legbreak googly</td>\n",
       "      <td>India</td>\n",
       "      <td>52.0</td>\n",
       "    </tr>\n",
       "    <tr>\n",
       "      <th>9</th>\n",
       "      <td>A Mishra</td>\n",
       "      <td>1982-11-24</td>\n",
       "      <td>Right_Hand</td>\n",
       "      <td>Legbreak</td>\n",
       "      <td>India</td>\n",
       "      <td>40.0</td>\n",
       "    </tr>\n",
       "    <tr>\n",
       "      <th>10</th>\n",
       "      <td>A Mithun</td>\n",
       "      <td>1989-10-25</td>\n",
       "      <td>Right_Hand</td>\n",
       "      <td>Right-arm medium</td>\n",
       "      <td>India</td>\n",
       "      <td>33.0</td>\n",
       "    </tr>\n",
       "    <tr>\n",
       "      <th>11</th>\n",
       "      <td>A Mukund</td>\n",
       "      <td>1990-01-06</td>\n",
       "      <td>Right_Hand</td>\n",
       "      <td>Legbreak googly</td>\n",
       "      <td>India</td>\n",
       "      <td>32.0</td>\n",
       "    </tr>\n",
       "    <tr>\n",
       "      <th>12</th>\n",
       "      <td>A Nehra</td>\n",
       "      <td>1979-04-29</td>\n",
       "      <td>Right_Hand</td>\n",
       "      <td>Left-arm medium-fast</td>\n",
       "      <td>India</td>\n",
       "      <td>43.0</td>\n",
       "    </tr>\n",
       "    <tr>\n",
       "      <th>13</th>\n",
       "      <td>A Nel</td>\n",
       "      <td>1977-07-15</td>\n",
       "      <td>Right_Hand</td>\n",
       "      <td>Right-arm fast-medium</td>\n",
       "      <td>South Africa</td>\n",
       "      <td>45.0</td>\n",
       "    </tr>\n",
       "    <tr>\n",
       "      <th>14</th>\n",
       "      <td>A Roy</td>\n",
       "      <td>NaT</td>\n",
       "      <td>Left_Hand</td>\n",
       "      <td>Slow left-arm orthodox</td>\n",
       "      <td>NaN</td>\n",
       "      <td>NaN</td>\n",
       "    </tr>\n",
       "  </tbody>\n",
       "</table>\n",
       "</div>\n",
       "      <button class=\"colab-df-convert\" onclick=\"convertToInteractive('df-12b53a2b-17d1-42f1-bbea-0d9e9dc811ff')\"\n",
       "              title=\"Convert this dataframe to an interactive table.\"\n",
       "              style=\"display:none;\">\n",
       "        \n",
       "  <svg xmlns=\"http://www.w3.org/2000/svg\" height=\"24px\"viewBox=\"0 0 24 24\"\n",
       "       width=\"24px\">\n",
       "    <path d=\"M0 0h24v24H0V0z\" fill=\"none\"/>\n",
       "    <path d=\"M18.56 5.44l.94 2.06.94-2.06 2.06-.94-2.06-.94-.94-2.06-.94 2.06-2.06.94zm-11 1L8.5 8.5l.94-2.06 2.06-.94-2.06-.94L8.5 2.5l-.94 2.06-2.06.94zm10 10l.94 2.06.94-2.06 2.06-.94-2.06-.94-.94-2.06-.94 2.06-2.06.94z\"/><path d=\"M17.41 7.96l-1.37-1.37c-.4-.4-.92-.59-1.43-.59-.52 0-1.04.2-1.43.59L10.3 9.45l-7.72 7.72c-.78.78-.78 2.05 0 2.83L4 21.41c.39.39.9.59 1.41.59.51 0 1.02-.2 1.41-.59l7.78-7.78 2.81-2.81c.8-.78.8-2.07 0-2.86zM5.41 20L4 18.59l7.72-7.72 1.47 1.35L5.41 20z\"/>\n",
       "  </svg>\n",
       "      </button>\n",
       "      \n",
       "  <style>\n",
       "    .colab-df-container {\n",
       "      display:flex;\n",
       "      flex-wrap:wrap;\n",
       "      gap: 12px;\n",
       "    }\n",
       "\n",
       "    .colab-df-convert {\n",
       "      background-color: #E8F0FE;\n",
       "      border: none;\n",
       "      border-radius: 50%;\n",
       "      cursor: pointer;\n",
       "      display: none;\n",
       "      fill: #1967D2;\n",
       "      height: 32px;\n",
       "      padding: 0 0 0 0;\n",
       "      width: 32px;\n",
       "    }\n",
       "\n",
       "    .colab-df-convert:hover {\n",
       "      background-color: #E2EBFA;\n",
       "      box-shadow: 0px 1px 2px rgba(60, 64, 67, 0.3), 0px 1px 3px 1px rgba(60, 64, 67, 0.15);\n",
       "      fill: #174EA6;\n",
       "    }\n",
       "\n",
       "    [theme=dark] .colab-df-convert {\n",
       "      background-color: #3B4455;\n",
       "      fill: #D2E3FC;\n",
       "    }\n",
       "\n",
       "    [theme=dark] .colab-df-convert:hover {\n",
       "      background-color: #434B5C;\n",
       "      box-shadow: 0px 1px 3px 1px rgba(0, 0, 0, 0.15);\n",
       "      filter: drop-shadow(0px 1px 2px rgba(0, 0, 0, 0.3));\n",
       "      fill: #FFFFFF;\n",
       "    }\n",
       "  </style>\n",
       "\n",
       "      <script>\n",
       "        const buttonEl =\n",
       "          document.querySelector('#df-12b53a2b-17d1-42f1-bbea-0d9e9dc811ff button.colab-df-convert');\n",
       "        buttonEl.style.display =\n",
       "          google.colab.kernel.accessAllowed ? 'block' : 'none';\n",
       "\n",
       "        async function convertToInteractive(key) {\n",
       "          const element = document.querySelector('#df-12b53a2b-17d1-42f1-bbea-0d9e9dc811ff');\n",
       "          const dataTable =\n",
       "            await google.colab.kernel.invokeFunction('convertToInteractive',\n",
       "                                                     [key], {});\n",
       "          if (!dataTable) return;\n",
       "\n",
       "          const docLinkHtml = 'Like what you see? Visit the ' +\n",
       "            '<a target=\"_blank\" href=https://colab.research.google.com/notebooks/data_table.ipynb>data table notebook</a>'\n",
       "            + ' to learn more about interactive tables.';\n",
       "          element.innerHTML = '';\n",
       "          dataTable['output_type'] = 'display_data';\n",
       "          await google.colab.output.renderOutput(dataTable, element);\n",
       "          const docLink = document.createElement('div');\n",
       "          docLink.innerHTML = docLinkHtml;\n",
       "          element.appendChild(docLink);\n",
       "        }\n",
       "      </script>\n",
       "    </div>\n",
       "  </div>\n",
       "  "
      ],
      "text/plain": [
       "       Player_Name        DOB Batting_Hand           Bowling_Skill  \\\n",
       "0   A Ashish Reddy 1991-02-24   Right_Hand        Right-arm medium   \n",
       "1       A Chandila 1983-12-05   Right_Hand      Right-arm offbreak   \n",
       "2         A Chopra 1977-09-19   Right_Hand      Right-arm offbreak   \n",
       "3      A Choudhary        NaT   Right_Hand    Left-arm fast-medium   \n",
       "4      A Dananjaya        NaT   Right_Hand      Right-arm offbreak   \n",
       "5       A Flintoff 1977-12-06   Right_Hand   Right-arm fast-medium   \n",
       "6          A Hales        NaT   Right_Hand                     NaN   \n",
       "7         A Joseph        NaT   Right_Hand          Right-arm fast   \n",
       "8         A Kumble 1970-10-17   Right_Hand         Legbreak googly   \n",
       "9         A Mishra 1982-11-24   Right_Hand                Legbreak   \n",
       "10        A Mithun 1989-10-25   Right_Hand        Right-arm medium   \n",
       "11        A Mukund 1990-01-06   Right_Hand         Legbreak googly   \n",
       "12         A Nehra 1979-04-29   Right_Hand    Left-arm medium-fast   \n",
       "13           A Nel 1977-07-15   Right_Hand   Right-arm fast-medium   \n",
       "14           A Roy        NaT    Left_Hand  Slow left-arm orthodox   \n",
       "\n",
       "         Country   Age  \n",
       "0          India  31.0  \n",
       "1          India  39.0  \n",
       "2          India  45.0  \n",
       "3            NaN   NaN  \n",
       "4            NaN   NaN  \n",
       "5        England  45.0  \n",
       "6            NaN   NaN  \n",
       "7            NaN   NaN  \n",
       "8          India  52.0  \n",
       "9          India  40.0  \n",
       "10         India  33.0  \n",
       "11         India  32.0  \n",
       "12         India  43.0  \n",
       "13  South Africa  45.0  \n",
       "14           NaN   NaN  "
      ]
     },
     "execution_count": 115,
     "metadata": {},
     "output_type": "execute_result"
    }
   ],
   "source": [
    "players.head(15)"
   ]
  },
  {
   "cell_type": "markdown",
   "metadata": {
    "id": "bB-fPzRtcgtz"
   },
   "source": [
    "Cheking for unique values"
   ]
  },
  {
   "cell_type": "code",
   "execution_count": 116,
   "metadata": {
    "colab": {
     "base_uri": "https://localhost:8080/"
    },
    "executionInfo": {
     "elapsed": 28,
     "status": "ok",
     "timestamp": 1670505737316,
     "user": {
      "displayName": "Mohit Kumar",
      "userId": "03888987891614882912"
     },
     "user_tz": -330
    },
    "id": "yXzoc_G7bcro",
    "outputId": "34332fe8-351f-4748-e488-5520cfb691bf"
   },
   "outputs": [
    {
     "data": {
      "text/plain": [
       "array(['India', nan, 'England', 'South Africa', 'Australia', 'Bangladesh',\n",
       "       'Sri Lanka', 'West Indies', 'New Zealand', 'Pakistan',\n",
       "       'Netherlands', 'Zimbabwea'], dtype=object)"
      ]
     },
     "execution_count": 116,
     "metadata": {},
     "output_type": "execute_result"
    }
   ],
   "source": [
    "players['Country'].unique()"
   ]
  },
  {
   "cell_type": "markdown",
   "metadata": {
    "id": "lFYB1lVAcfmT"
   },
   "source": [
    "Cheking in Columns using filter"
   ]
  },
  {
   "cell_type": "code",
   "execution_count": 117,
   "metadata": {
    "colab": {
     "base_uri": "https://localhost:8080/",
     "height": 112
    },
    "executionInfo": {
     "elapsed": 27,
     "status": "ok",
     "timestamp": 1670505737318,
     "user": {
      "displayName": "Mohit Kumar",
      "userId": "03888987891614882912"
     },
     "user_tz": -330
    },
    "id": "c714qMhXbski",
    "outputId": "7329e931-0007-4099-8a06-a5b5e91750b3"
   },
   "outputs": [
    {
     "data": {
      "text/html": [
       "\n",
       "  <div id=\"df-fd6e9952-ac5b-49d9-afe9-fe38133a08f5\">\n",
       "    <div class=\"colab-df-container\">\n",
       "      <div>\n",
       "<style scoped>\n",
       "    .dataframe tbody tr th:only-of-type {\n",
       "        vertical-align: middle;\n",
       "    }\n",
       "\n",
       "    .dataframe tbody tr th {\n",
       "        vertical-align: top;\n",
       "    }\n",
       "\n",
       "    .dataframe thead th {\n",
       "        text-align: right;\n",
       "    }\n",
       "</style>\n",
       "<table border=\"1\" class=\"dataframe\">\n",
       "  <thead>\n",
       "    <tr style=\"text-align: right;\">\n",
       "      <th></th>\n",
       "      <th>Player_Name</th>\n",
       "      <th>DOB</th>\n",
       "      <th>Batting_Hand</th>\n",
       "      <th>Bowling_Skill</th>\n",
       "      <th>Country</th>\n",
       "      <th>Age</th>\n",
       "    </tr>\n",
       "  </thead>\n",
       "  <tbody>\n",
       "    <tr>\n",
       "      <th>422</th>\n",
       "      <td>RW Price</td>\n",
       "      <td>1976-06-12</td>\n",
       "      <td>Right_Hand</td>\n",
       "      <td>Slow left-arm orthodox</td>\n",
       "      <td>Zimbabwea</td>\n",
       "      <td>46.0</td>\n",
       "    </tr>\n",
       "    <tr>\n",
       "      <th>516</th>\n",
       "      <td>T Taibu</td>\n",
       "      <td>1983-05-14</td>\n",
       "      <td>Right_Hand</td>\n",
       "      <td>Right-arm medium</td>\n",
       "      <td>Zimbabwea</td>\n",
       "      <td>39.0</td>\n",
       "    </tr>\n",
       "  </tbody>\n",
       "</table>\n",
       "</div>\n",
       "      <button class=\"colab-df-convert\" onclick=\"convertToInteractive('df-fd6e9952-ac5b-49d9-afe9-fe38133a08f5')\"\n",
       "              title=\"Convert this dataframe to an interactive table.\"\n",
       "              style=\"display:none;\">\n",
       "        \n",
       "  <svg xmlns=\"http://www.w3.org/2000/svg\" height=\"24px\"viewBox=\"0 0 24 24\"\n",
       "       width=\"24px\">\n",
       "    <path d=\"M0 0h24v24H0V0z\" fill=\"none\"/>\n",
       "    <path d=\"M18.56 5.44l.94 2.06.94-2.06 2.06-.94-2.06-.94-.94-2.06-.94 2.06-2.06.94zm-11 1L8.5 8.5l.94-2.06 2.06-.94-2.06-.94L8.5 2.5l-.94 2.06-2.06.94zm10 10l.94 2.06.94-2.06 2.06-.94-2.06-.94-.94-2.06-.94 2.06-2.06.94z\"/><path d=\"M17.41 7.96l-1.37-1.37c-.4-.4-.92-.59-1.43-.59-.52 0-1.04.2-1.43.59L10.3 9.45l-7.72 7.72c-.78.78-.78 2.05 0 2.83L4 21.41c.39.39.9.59 1.41.59.51 0 1.02-.2 1.41-.59l7.78-7.78 2.81-2.81c.8-.78.8-2.07 0-2.86zM5.41 20L4 18.59l7.72-7.72 1.47 1.35L5.41 20z\"/>\n",
       "  </svg>\n",
       "      </button>\n",
       "      \n",
       "  <style>\n",
       "    .colab-df-container {\n",
       "      display:flex;\n",
       "      flex-wrap:wrap;\n",
       "      gap: 12px;\n",
       "    }\n",
       "\n",
       "    .colab-df-convert {\n",
       "      background-color: #E8F0FE;\n",
       "      border: none;\n",
       "      border-radius: 50%;\n",
       "      cursor: pointer;\n",
       "      display: none;\n",
       "      fill: #1967D2;\n",
       "      height: 32px;\n",
       "      padding: 0 0 0 0;\n",
       "      width: 32px;\n",
       "    }\n",
       "\n",
       "    .colab-df-convert:hover {\n",
       "      background-color: #E2EBFA;\n",
       "      box-shadow: 0px 1px 2px rgba(60, 64, 67, 0.3), 0px 1px 3px 1px rgba(60, 64, 67, 0.15);\n",
       "      fill: #174EA6;\n",
       "    }\n",
       "\n",
       "    [theme=dark] .colab-df-convert {\n",
       "      background-color: #3B4455;\n",
       "      fill: #D2E3FC;\n",
       "    }\n",
       "\n",
       "    [theme=dark] .colab-df-convert:hover {\n",
       "      background-color: #434B5C;\n",
       "      box-shadow: 0px 1px 3px 1px rgba(0, 0, 0, 0.15);\n",
       "      filter: drop-shadow(0px 1px 2px rgba(0, 0, 0, 0.3));\n",
       "      fill: #FFFFFF;\n",
       "    }\n",
       "  </style>\n",
       "\n",
       "      <script>\n",
       "        const buttonEl =\n",
       "          document.querySelector('#df-fd6e9952-ac5b-49d9-afe9-fe38133a08f5 button.colab-df-convert');\n",
       "        buttonEl.style.display =\n",
       "          google.colab.kernel.accessAllowed ? 'block' : 'none';\n",
       "\n",
       "        async function convertToInteractive(key) {\n",
       "          const element = document.querySelector('#df-fd6e9952-ac5b-49d9-afe9-fe38133a08f5');\n",
       "          const dataTable =\n",
       "            await google.colab.kernel.invokeFunction('convertToInteractive',\n",
       "                                                     [key], {});\n",
       "          if (!dataTable) return;\n",
       "\n",
       "          const docLinkHtml = 'Like what you see? Visit the ' +\n",
       "            '<a target=\"_blank\" href=https://colab.research.google.com/notebooks/data_table.ipynb>data table notebook</a>'\n",
       "            + ' to learn more about interactive tables.';\n",
       "          element.innerHTML = '';\n",
       "          dataTable['output_type'] = 'display_data';\n",
       "          await google.colab.output.renderOutput(dataTable, element);\n",
       "          const docLink = document.createElement('div');\n",
       "          docLink.innerHTML = docLinkHtml;\n",
       "          element.appendChild(docLink);\n",
       "        }\n",
       "      </script>\n",
       "    </div>\n",
       "  </div>\n",
       "  "
      ],
      "text/plain": [
       "    Player_Name        DOB Batting_Hand           Bowling_Skill    Country  \\\n",
       "422    RW Price 1976-06-12   Right_Hand  Slow left-arm orthodox  Zimbabwea   \n",
       "516     T Taibu 1983-05-14   Right_Hand        Right-arm medium  Zimbabwea   \n",
       "\n",
       "      Age  \n",
       "422  46.0  \n",
       "516  39.0  "
      ]
     },
     "execution_count": 117,
     "metadata": {},
     "output_type": "execute_result"
    }
   ],
   "source": [
    "players.loc[players['Country'] == 'Zimbabwea']"
   ]
  },
  {
   "cell_type": "code",
   "execution_count": 118,
   "metadata": {
    "colab": {
     "base_uri": "https://localhost:8080/"
    },
    "executionInfo": {
     "elapsed": 26,
     "status": "ok",
     "timestamp": 1670505737319,
     "user": {
      "displayName": "Mohit Kumar",
      "userId": "03888987891614882912"
     },
     "user_tz": -330
    },
    "id": "XHo5EtzlcXQy",
    "outputId": "6a477e0a-84d8-41b1-b34e-24f8e2f7b18a"
   },
   "outputs": [
    {
     "data": {
      "text/plain": [
       "India           264\n",
       "Australia        72\n",
       "South Africa     39\n",
       "New Zealand      22\n",
       "Sri Lanka        20\n",
       "West Indies      19\n",
       "England          14\n",
       "Pakistan         13\n",
       "Bangladesh        5\n",
       "Zimbabwea         2\n",
       "Netherlands       1\n",
       "Name: Country, dtype: int64"
      ]
     },
     "execution_count": 118,
     "metadata": {},
     "output_type": "execute_result"
    }
   ],
   "source": [
    "players['Country'].value_counts()"
   ]
  },
  {
   "cell_type": "markdown",
   "metadata": {
    "id": "FU5EOZ9Egx8B"
   },
   "source": [
    "Players from each international team"
   ]
  },
  {
   "cell_type": "code",
   "execution_count": 119,
   "metadata": {
    "colab": {
     "base_uri": "https://localhost:8080/",
     "height": 282
    },
    "executionInfo": {
     "elapsed": 518,
     "status": "ok",
     "timestamp": 1670505737813,
     "user": {
      "displayName": "Mohit Kumar",
      "userId": "03888987891614882912"
     },
     "user_tz": -330
    },
    "id": "j6xoOB54c8uT",
    "outputId": "bd69ff8e-00f4-4765-c64c-117a376f6fb4"
   },
   "outputs": [
    {
     "data": {
      "text/plain": [
       "<matplotlib.axes._subplots.AxesSubplot at 0x7f431c77fdf0>"
      ]
     },
     "execution_count": 119,
     "metadata": {},
     "output_type": "execute_result"
    },
    {
     "data": {
      "image/png": "[encoded data removed]",
      "text/plain": [
       "<Figure size 432x288 with 1 Axes>"
      ]
     },
     "metadata": {
      "needs_background": "light"
     },
     "output_type": "display_data"
    }
   ],
   "source": [
    "players['Country'].value_counts().plot(kind='barh')"
   ]
  },
  {
   "cell_type": "markdown",
   "metadata": {
    "id": "k4OeiLQuhDdg"
   },
   "source": [
    "Bowling Skills of Players"
   ]
  },
  {
   "cell_type": "code",
   "execution_count": 120,
   "metadata": {
    "colab": {
     "base_uri": "https://localhost:8080/"
    },
    "executionInfo": {
     "elapsed": 27,
     "status": "ok",
     "timestamp": 1670505737814,
     "user": {
      "displayName": "Mohit Kumar",
      "userId": "03888987891614882912"
     },
     "user_tz": -330
    },
    "id": "PVlyMGkRdfKH",
    "outputId": "b7b99bd1-006f-4a5c-a66a-a865500a147b"
   },
   "outputs": [
    {
     "data": {
      "text/plain": [
       "0           Right-arm medium\n",
       "1         Right-arm offbreak\n",
       "2         Right-arm offbreak\n",
       "3       Left-arm fast-medium\n",
       "4         Right-arm offbreak\n",
       "5      Right-arm fast-medium\n",
       "6                        NaN\n",
       "7             Right-arm fast\n",
       "8            Legbreak googly\n",
       "9                   Legbreak\n",
       "10          Right-arm medium\n",
       "11           Legbreak googly\n",
       "12      Left-arm medium-fast\n",
       "13     Right-arm fast-medium\n",
       "14    Slow left-arm orthodox\n",
       "15     Right-arm medium-fast\n",
       "16        Right-arm offbreak\n",
       "17                       NaN\n",
       "18           Left-arm medium\n",
       "19           Legbreak googly\n",
       "Name: Bowling_Skill, dtype: object"
      ]
     },
     "execution_count": 120,
     "metadata": {},
     "output_type": "execute_result"
    }
   ],
   "source": [
    "players['Bowling_Skill'].head(20)"
   ]
  },
  {
   "cell_type": "code",
   "execution_count": 121,
   "metadata": {
    "colab": {
     "base_uri": "https://localhost:8080/"
    },
    "executionInfo": {
     "elapsed": 26,
     "status": "ok",
     "timestamp": 1670505737815,
     "user": {
      "displayName": "Mohit Kumar",
      "userId": "03888987891614882912"
     },
     "user_tz": -330
    },
    "id": "zKdolb2CirI-",
    "outputId": "c2228aef-bf21-49df-c098-d505837d2541"
   },
   "outputs": [
    {
     "data": {
      "text/plain": [
       "array(['Right-arm medium', 'Right-arm offbreak', 'Left-arm fast-medium',\n",
       "       'Right-arm fast-medium', nan, 'Right-arm fast', 'Legbreak googly',\n",
       "       'Legbreak', 'Left-arm medium-fast', 'Slow left-arm orthodox',\n",
       "       'Right-arm medium-fast', 'Left-arm medium', 'Left-arm fast',\n",
       "       'Slow left-arm chinaman', 'Right-arm bowler', 'Right-arm Medium',\n",
       "       'Right-arm Fast'], dtype=object)"
      ]
     },
     "execution_count": 121,
     "metadata": {},
     "output_type": "execute_result"
    }
   ],
   "source": [
    "players['Bowling_Skill'].unique()"
   ]
  },
  {
   "cell_type": "code",
   "execution_count": 122,
   "metadata": {
    "colab": {
     "base_uri": "https://localhost:8080/"
    },
    "executionInfo": {
     "elapsed": 24,
     "status": "ok",
     "timestamp": 1670505737816,
     "user": {
      "displayName": "Mohit Kumar",
      "userId": "03888987891614882912"
     },
     "user_tz": -330
    },
    "id": "YioxVJQng-Zo",
    "outputId": "95787de7-fa3b-4d14-813b-a9c9c0785512"
   },
   "outputs": [
    {
     "data": {
      "text/plain": [
       "Right-arm medium          107\n",
       "Right-arm offbreak         91\n",
       "Right-arm fast-medium      68\n",
       "Slow left-arm orthodox     50\n",
       "Right-arm fast             39\n",
       "Right-arm medium-fast      38\n",
       "Legbreak                   30\n",
       "Legbreak googly            28\n",
       "Left-arm fast-medium       19\n",
       "Left-arm medium            11\n",
       "Left-arm medium-fast        9\n",
       "Slow left-arm chinaman      5\n",
       "Left-arm fast               4\n",
       "Right-arm bowler            1\n",
       "Right-arm Medium            1\n",
       "Right-arm Fast              1\n",
       "Name: Bowling_Skill, dtype: int64"
      ]
     },
     "execution_count": 122,
     "metadata": {},
     "output_type": "execute_result"
    }
   ],
   "source": [
    "players['Bowling_Skill'].value_counts()"
   ]
  },
  {
   "cell_type": "code",
   "execution_count": 123,
   "metadata": {
    "colab": {
     "base_uri": "https://localhost:8080/",
     "height": 282
    },
    "executionInfo": {
     "elapsed": 24,
     "status": "ok",
     "timestamp": 1670505737817,
     "user": {
      "displayName": "Mohit Kumar",
      "userId": "03888987891614882912"
     },
     "user_tz": -330
    },
    "id": "j2VZQAexhPL_",
    "outputId": "8b71a5b4-1e47-4dc1-e25a-12af10253724"
   },
   "outputs": [
    {
     "data": {
      "text/plain": [
       "<matplotlib.axes._subplots.AxesSubplot at 0x7f431bbc5b50>"
      ]
     },
     "execution_count": 123,
     "metadata": {},
     "output_type": "execute_result"
    },
    {
     "data": {
      "image/png": "[encoded data removed]",
      "text/plain": [
       "<Figure size 432x288 with 1 Axes>"
      ]
     },
     "metadata": {
      "needs_background": "light"
     },
     "output_type": "display_data"
    }
   ],
   "source": [
    "players['Bowling_Skill'].value_counts().plot(kind='barh', color='orange')"
   ]
  },
  {
   "cell_type": "markdown",
   "metadata": {
    "id": "teYe4nt_iZZP"
   },
   "source": [
    "Batting Hand of Players"
   ]
  },
  {
   "cell_type": "code",
   "execution_count": 124,
   "metadata": {
    "colab": {
     "base_uri": "https://localhost:8080/"
    },
    "executionInfo": {
     "elapsed": 20,
     "status": "ok",
     "timestamp": 1670505737818,
     "user": {
      "displayName": "Mohit Kumar",
      "userId": "03888987891614882912"
     },
     "user_tz": -330
    },
    "id": "QVNL1fdThVH3",
    "outputId": "caac0ce1-59a6-4013-a514-ca388c0ead19"
   },
   "outputs": [
    {
     "data": {
      "text/plain": [
       "array(['Right_Hand', 'Left_Hand', nan], dtype=object)"
      ]
     },
     "execution_count": 124,
     "metadata": {},
     "output_type": "execute_result"
    }
   ],
   "source": [
    "players['Batting_Hand'].unique()"
   ]
  },
  {
   "cell_type": "code",
   "execution_count": 125,
   "metadata": {
    "colab": {
     "base_uri": "https://localhost:8080/"
    },
    "executionInfo": {
     "elapsed": 19,
     "status": "ok",
     "timestamp": 1670505737818,
     "user": {
      "displayName": "Mohit Kumar",
      "userId": "03888987891614882912"
     },
     "user_tz": -330
    },
    "id": "9jgBdvObiiyZ",
    "outputId": "adbc6de6-8119-4365-fc58-8acc229587eb"
   },
   "outputs": [
    {
     "data": {
      "text/plain": [
       "Right_Hand    421\n",
       "Left_Hand     142\n",
       "Name: Batting_Hand, dtype: int64"
      ]
     },
     "execution_count": 125,
     "metadata": {},
     "output_type": "execute_result"
    }
   ],
   "source": [
    "players['Batting_Hand'].value_counts()"
   ]
  },
  {
   "cell_type": "markdown",
   "metadata": {
    "id": "eZ46nGV7mYmR"
   },
   "source": [
    "Handling spelling mistakes"
   ]
  },
  {
   "cell_type": "code",
   "execution_count": 126,
   "metadata": {
    "executionInfo": {
     "elapsed": 18,
     "status": "ok",
     "timestamp": 1670505737819,
     "user": {
      "displayName": "Mohit Kumar",
      "userId": "03888987891614882912"
     },
     "user_tz": -330
    },
    "id": "y8Kki5ZNi4ZD"
   },
   "outputs": [],
   "source": [
    "players['Batting_Hand'] = players['Batting_Hand'].replace('Right_hand' , 'Right_Hand')"
   ]
  },
  {
   "cell_type": "code",
   "execution_count": 127,
   "metadata": {
    "colab": {
     "base_uri": "https://localhost:8080/"
    },
    "executionInfo": {
     "elapsed": 25,
     "status": "ok",
     "timestamp": 1670505738208,
     "user": {
      "displayName": "Mohit Kumar",
      "userId": "03888987891614882912"
     },
     "user_tz": -330
    },
    "id": "VwmCxvd1mQrn",
    "outputId": "52bd6b93-ec18-4c23-c9ea-dae2e945dbc6"
   },
   "outputs": [
    {
     "data": {
      "text/plain": [
       "Right_Hand    421\n",
       "Left_Hand     142\n",
       "Name: Batting_Hand, dtype: int64"
      ]
     },
     "execution_count": 127,
     "metadata": {},
     "output_type": "execute_result"
    }
   ],
   "source": [
    "players['Batting_Hand'].value_counts()"
   ]
  },
  {
   "cell_type": "code",
   "execution_count": 128,
   "metadata": {
    "colab": {
     "base_uri": "https://localhost:8080/",
     "height": 282
    },
    "executionInfo": {
     "elapsed": 25,
     "status": "ok",
     "timestamp": 1670505738209,
     "user": {
      "displayName": "Mohit Kumar",
      "userId": "03888987891614882912"
     },
     "user_tz": -330
    },
    "id": "PKlSh45UmXZk",
    "outputId": "93ad0c6b-8179-4821-8496-404425a315eb"
   },
   "outputs": [
    {
     "data": {
      "text/plain": [
       "<matplotlib.axes._subplots.AxesSubplot at 0x7f431cb4f9d0>"
      ]
     },
     "execution_count": 128,
     "metadata": {},
     "output_type": "execute_result"
    },
    {
     "data": {
      "image/png": "[encoded data removed]",
      "text/plain": [
       "<Figure size 432x288 with 1 Axes>"
      ]
     },
     "metadata": {
      "needs_background": "light"
     },
     "output_type": "display_data"
    }
   ],
   "source": [
    "players['Batting_Hand'].value_counts().plot(kind='barh', color='cyan')"
   ]
  },
  {
   "cell_type": "markdown",
   "metadata": {
    "id": "ld2XMjfVoMNt"
   },
   "source": [
    "Date of Birth"
   ]
  },
  {
   "cell_type": "code",
   "execution_count": 129,
   "metadata": {
    "executionInfo": {
     "elapsed": 25,
     "status": "ok",
     "timestamp": 1670505738211,
     "user": {
      "displayName": "Mohit Kumar",
      "userId": "03888987891614882912"
     },
     "user_tz": -330
    },
    "id": "UpGAm7ZynX8F"
   },
   "outputs": [],
   "source": [
    "from datetime import datetime, date"
   ]
  },
  {
   "cell_type": "code",
   "execution_count": 130,
   "metadata": {
    "colab": {
     "base_uri": "https://localhost:8080/"
    },
    "executionInfo": {
     "elapsed": 25,
     "status": "ok",
     "timestamp": 1670505738212,
     "user": {
      "displayName": "Mohit Kumar",
      "userId": "03888987891614882912"
     },
     "user_tz": -330
    },
    "id": "pwNtE_g5omLM",
    "outputId": "9e2235f3-8e27-490b-92cb-19cb921c7043"
   },
   "outputs": [
    {
     "name": "stdout",
     "output_type": "stream",
     "text": [
      "2022-12-08\n"
     ]
    }
   ],
   "source": [
    "today = date.today()\n",
    "print(today)"
   ]
  },
  {
   "cell_type": "code",
   "execution_count": 131,
   "metadata": {
    "colab": {
     "base_uri": "https://localhost:8080/"
    },
    "executionInfo": {
     "elapsed": 24,
     "status": "ok",
     "timestamp": 1670505738213,
     "user": {
      "displayName": "Mohit Kumar",
      "userId": "03888987891614882912"
     },
     "user_tz": -330
    },
    "id": "D4du9fnnpO1b",
    "outputId": "5c183071-ddb7-4878-c311-7c2c0e5c85ef"
   },
   "outputs": [
    {
     "data": {
      "text/plain": [
       "2022"
      ]
     },
     "execution_count": 131,
     "metadata": {},
     "output_type": "execute_result"
    }
   ],
   "source": [
    "today.year"
   ]
  },
  {
   "cell_type": "markdown",
   "metadata": {
    "id": "VEl95KOe3ZdA"
   },
   "source": [
    "Calculating Age of players"
   ]
  },
  {
   "cell_type": "code",
   "execution_count": 132,
   "metadata": {
    "colab": {
     "base_uri": "https://localhost:8080/"
    },
    "executionInfo": {
     "elapsed": 24,
     "status": "ok",
     "timestamp": 1670505738215,
     "user": {
      "displayName": "Mohit Kumar",
      "userId": "03888987891614882912"
     },
     "user_tz": -330
    },
    "id": "2s-3L6ixoxeT",
    "outputId": "18f4739f-3d1b-422d-9635-39dc5040e90e"
   },
   "outputs": [
    {
     "data": {
      "text/plain": [
       "1991"
      ]
     },
     "execution_count": 132,
     "metadata": {},
     "output_type": "execute_result"
    }
   ],
   "source": [
    "players['DOB'][0].year"
   ]
  },
  {
   "cell_type": "code",
   "execution_count": 133,
   "metadata": {
    "executionInfo": {
     "elapsed": 24,
     "status": "ok",
     "timestamp": 1670505738216,
     "user": {
      "displayName": "Mohit Kumar",
      "userId": "03888987891614882912"
     },
     "user_tz": -330
    },
    "id": "9QjAV__DpE5c"
   },
   "outputs": [],
   "source": [
    "age_1 = today.year - players['DOB'][0].year"
   ]
  },
  {
   "cell_type": "code",
   "execution_count": 134,
   "metadata": {
    "colab": {
     "base_uri": "https://localhost:8080/"
    },
    "executionInfo": {
     "elapsed": 24,
     "status": "ok",
     "timestamp": 1670505738217,
     "user": {
      "displayName": "Mohit Kumar",
      "userId": "03888987891614882912"
     },
     "user_tz": -330
    },
    "id": "YJdNzQJCpSpD",
    "outputId": "d85b9bc4-9814-416a-f60e-ab0f548c68d0"
   },
   "outputs": [
    {
     "data": {
      "text/plain": [
       "31"
      ]
     },
     "execution_count": 134,
     "metadata": {},
     "output_type": "execute_result"
    }
   ],
   "source": [
    "age_1"
   ]
  },
  {
   "cell_type": "code",
   "execution_count": 135,
   "metadata": {
    "executionInfo": {
     "elapsed": 23,
     "status": "ok",
     "timestamp": 1670505738218,
     "user": {
      "displayName": "Mohit Kumar",
      "userId": "03888987891614882912"
     },
     "user_tz": -330
    },
    "id": "S6wE-CHHpUyj"
   },
   "outputs": [],
   "source": [
    "def age(born):\n",
    "    today = date.today()\n",
    "    return today.year - born.year - ((today.month, \n",
    "                                      today.day) < (born.month, \n",
    "                                                    born.day))"
   ]
  },
  {
   "cell_type": "code",
   "execution_count": 136,
   "metadata": {
    "colab": {
     "base_uri": "https://localhost:8080/",
     "height": 237
    },
    "executionInfo": {
     "elapsed": 24,
     "status": "ok",
     "timestamp": 1670505738219,
     "user": {
      "displayName": "Mohit Kumar",
      "userId": "03888987891614882912"
     },
     "user_tz": -330
    },
    "id": "9yZBnNoQwufc",
    "outputId": "10288ab1-b7ea-4800-94dc-c175606f0228"
   },
   "outputs": [
    {
     "data": {
      "text/html": [
       "\n",
       "  <div id=\"df-e04e4320-fb81-4b0f-b4f7-fc4d5107b07a\">\n",
       "    <div class=\"colab-df-container\">\n",
       "      <div>\n",
       "<style scoped>\n",
       "    .dataframe tbody tr th:only-of-type {\n",
       "        vertical-align: middle;\n",
       "    }\n",
       "\n",
       "    .dataframe tbody tr th {\n",
       "        vertical-align: top;\n",
       "    }\n",
       "\n",
       "    .dataframe thead th {\n",
       "        text-align: right;\n",
       "    }\n",
       "</style>\n",
       "<table border=\"1\" class=\"dataframe\">\n",
       "  <thead>\n",
       "    <tr style=\"text-align: right;\">\n",
       "      <th></th>\n",
       "      <th>Player_Name</th>\n",
       "      <th>DOB</th>\n",
       "      <th>Batting_Hand</th>\n",
       "      <th>Bowling_Skill</th>\n",
       "      <th>Country</th>\n",
       "      <th>Age</th>\n",
       "    </tr>\n",
       "  </thead>\n",
       "  <tbody>\n",
       "    <tr>\n",
       "      <th>0</th>\n",
       "      <td>A Ashish Reddy</td>\n",
       "      <td>1991-02-24</td>\n",
       "      <td>Right_Hand</td>\n",
       "      <td>Right-arm medium</td>\n",
       "      <td>India</td>\n",
       "      <td>31.0</td>\n",
       "    </tr>\n",
       "    <tr>\n",
       "      <th>1</th>\n",
       "      <td>A Chandila</td>\n",
       "      <td>1983-12-05</td>\n",
       "      <td>Right_Hand</td>\n",
       "      <td>Right-arm offbreak</td>\n",
       "      <td>India</td>\n",
       "      <td>39.0</td>\n",
       "    </tr>\n",
       "    <tr>\n",
       "      <th>2</th>\n",
       "      <td>A Chopra</td>\n",
       "      <td>1977-09-19</td>\n",
       "      <td>Right_Hand</td>\n",
       "      <td>Right-arm offbreak</td>\n",
       "      <td>India</td>\n",
       "      <td>45.0</td>\n",
       "    </tr>\n",
       "    <tr>\n",
       "      <th>3</th>\n",
       "      <td>A Choudhary</td>\n",
       "      <td>NaT</td>\n",
       "      <td>Right_Hand</td>\n",
       "      <td>Left-arm fast-medium</td>\n",
       "      <td>NaN</td>\n",
       "      <td>NaN</td>\n",
       "    </tr>\n",
       "    <tr>\n",
       "      <th>4</th>\n",
       "      <td>A Dananjaya</td>\n",
       "      <td>NaT</td>\n",
       "      <td>Right_Hand</td>\n",
       "      <td>Right-arm offbreak</td>\n",
       "      <td>NaN</td>\n",
       "      <td>NaN</td>\n",
       "    </tr>\n",
       "    <tr>\n",
       "      <th>5</th>\n",
       "      <td>A Flintoff</td>\n",
       "      <td>1977-12-06</td>\n",
       "      <td>Right_Hand</td>\n",
       "      <td>Right-arm fast-medium</td>\n",
       "      <td>England</td>\n",
       "      <td>45.0</td>\n",
       "    </tr>\n",
       "  </tbody>\n",
       "</table>\n",
       "</div>\n",
       "      <button class=\"colab-df-convert\" onclick=\"convertToInteractive('df-e04e4320-fb81-4b0f-b4f7-fc4d5107b07a')\"\n",
       "              title=\"Convert this dataframe to an interactive table.\"\n",
       "              style=\"display:none;\">\n",
       "        \n",
       "  <svg xmlns=\"http://www.w3.org/2000/svg\" height=\"24px\"viewBox=\"0 0 24 24\"\n",
       "       width=\"24px\">\n",
       "    <path d=\"M0 0h24v24H0V0z\" fill=\"none\"/>\n",
       "    <path d=\"M18.56 5.44l.94 2.06.94-2.06 2.06-.94-2.06-.94-.94-2.06-.94 2.06-2.06.94zm-11 1L8.5 8.5l.94-2.06 2.06-.94-2.06-.94L8.5 2.5l-.94 2.06-2.06.94zm10 10l.94 2.06.94-2.06 2.06-.94-2.06-.94-.94-2.06-.94 2.06-2.06.94z\"/><path d=\"M17.41 7.96l-1.37-1.37c-.4-.4-.92-.59-1.43-.59-.52 0-1.04.2-1.43.59L10.3 9.45l-7.72 7.72c-.78.78-.78 2.05 0 2.83L4 21.41c.39.39.9.59 1.41.59.51 0 1.02-.2 1.41-.59l7.78-7.78 2.81-2.81c.8-.78.8-2.07 0-2.86zM5.41 20L4 18.59l7.72-7.72 1.47 1.35L5.41 20z\"/>\n",
       "  </svg>\n",
       "      </button>\n",
       "      \n",
       "  <style>\n",
       "    .colab-df-container {\n",
       "      display:flex;\n",
       "      flex-wrap:wrap;\n",
       "      gap: 12px;\n",
       "    }\n",
       "\n",
       "    .colab-df-convert {\n",
       "      background-color: #E8F0FE;\n",
       "      border: none;\n",
       "      border-radius: 50%;\n",
       "      cursor: pointer;\n",
       "      display: none;\n",
       "      fill: #1967D2;\n",
       "      height: 32px;\n",
       "      padding: 0 0 0 0;\n",
       "      width: 32px;\n",
       "    }\n",
       "\n",
       "    .colab-df-convert:hover {\n",
       "      background-color: #E2EBFA;\n",
       "      box-shadow: 0px 1px 2px rgba(60, 64, 67, 0.3), 0px 1px 3px 1px rgba(60, 64, 67, 0.15);\n",
       "      fill: #174EA6;\n",
       "    }\n",
       "\n",
       "    [theme=dark] .colab-df-convert {\n",
       "      background-color: #3B4455;\n",
       "      fill: #D2E3FC;\n",
       "    }\n",
       "\n",
       "    [theme=dark] .colab-df-convert:hover {\n",
       "      background-color: #434B5C;\n",
       "      box-shadow: 0px 1px 3px 1px rgba(0, 0, 0, 0.15);\n",
       "      filter: drop-shadow(0px 1px 2px rgba(0, 0, 0, 0.3));\n",
       "      fill: #FFFFFF;\n",
       "    }\n",
       "  </style>\n",
       "\n",
       "      <script>\n",
       "        const buttonEl =\n",
       "          document.querySelector('#df-e04e4320-fb81-4b0f-b4f7-fc4d5107b07a button.colab-df-convert');\n",
       "        buttonEl.style.display =\n",
       "          google.colab.kernel.accessAllowed ? 'block' : 'none';\n",
       "\n",
       "        async function convertToInteractive(key) {\n",
       "          const element = document.querySelector('#df-e04e4320-fb81-4b0f-b4f7-fc4d5107b07a');\n",
       "          const dataTable =\n",
       "            await google.colab.kernel.invokeFunction('convertToInteractive',\n",
       "                                                     [key], {});\n",
       "          if (!dataTable) return;\n",
       "\n",
       "          const docLinkHtml = 'Like what you see? Visit the ' +\n",
       "            '<a target=\"_blank\" href=https://colab.research.google.com/notebooks/data_table.ipynb>data table notebook</a>'\n",
       "            + ' to learn more about interactive tables.';\n",
       "          element.innerHTML = '';\n",
       "          dataTable['output_type'] = 'display_data';\n",
       "          await google.colab.output.renderOutput(dataTable, element);\n",
       "          const docLink = document.createElement('div');\n",
       "          docLink.innerHTML = docLinkHtml;\n",
       "          element.appendChild(docLink);\n",
       "        }\n",
       "      </script>\n",
       "    </div>\n",
       "  </div>\n",
       "  "
      ],
      "text/plain": [
       "      Player_Name        DOB Batting_Hand          Bowling_Skill  Country  \\\n",
       "0  A Ashish Reddy 1991-02-24   Right_Hand       Right-arm medium    India   \n",
       "1      A Chandila 1983-12-05   Right_Hand     Right-arm offbreak    India   \n",
       "2        A Chopra 1977-09-19   Right_Hand     Right-arm offbreak    India   \n",
       "3     A Choudhary        NaT   Right_Hand   Left-arm fast-medium      NaN   \n",
       "4     A Dananjaya        NaT   Right_Hand     Right-arm offbreak      NaN   \n",
       "5      A Flintoff 1977-12-06   Right_Hand  Right-arm fast-medium  England   \n",
       "\n",
       "    Age  \n",
       "0  31.0  \n",
       "1  39.0  \n",
       "2  45.0  \n",
       "3   NaN  \n",
       "4   NaN  \n",
       "5  45.0  "
      ]
     },
     "execution_count": 136,
     "metadata": {},
     "output_type": "execute_result"
    }
   ],
   "source": [
    "players['Age'] = players['DOB'].apply(age)\n",
    "players.head(6)"
   ]
  },
  {
   "cell_type": "code",
   "execution_count": 137,
   "metadata": {
    "executionInfo": {
     "elapsed": 23,
     "status": "ok",
     "timestamp": 1670505738220,
     "user": {
      "displayName": "Mohit Kumar",
      "userId": "03888987891614882912"
     },
     "user_tz": -330
    },
    "id": "rCheMKKWzJZg"
   },
   "outputs": [],
   "source": [
    "age_mean = (players['Age'].sum())/len(players['Age'])"
   ]
  },
  {
   "cell_type": "code",
   "execution_count": 138,
   "metadata": {
    "executionInfo": {
     "elapsed": 23,
     "status": "ok",
     "timestamp": 1670505738220,
     "user": {
      "displayName": "Mohit Kumar",
      "userId": "03888987891614882912"
     },
     "user_tz": -330
    },
    "id": "LWFuCi3az0p8"
   },
   "outputs": [],
   "source": [
    "age_mean = int(age_mean)"
   ]
  },
  {
   "cell_type": "code",
   "execution_count": 139,
   "metadata": {
    "colab": {
     "base_uri": "https://localhost:8080/"
    },
    "executionInfo": {
     "elapsed": 24,
     "status": "ok",
     "timestamp": 1670505738222,
     "user": {
      "displayName": "Mohit Kumar",
      "userId": "03888987891614882912"
     },
     "user_tz": -330
    },
    "id": "7CvFVX6IyAD3",
    "outputId": "cf3c33a7-7b7a-4db9-ff10-abc6387577b7"
   },
   "outputs": [
    {
     "data": {
      "text/plain": [
       "0      31.0\n",
       "1      39.0\n",
       "2      45.0\n",
       "3      31.0\n",
       "4      31.0\n",
       "       ... \n",
       "561    45.0\n",
       "562    32.0\n",
       "563    40.0\n",
       "564    38.0\n",
       "565    44.0\n",
       "Name: Age, Length: 566, dtype: float64"
      ]
     },
     "execution_count": 139,
     "metadata": {},
     "output_type": "execute_result"
    }
   ],
   "source": [
    "players['Age'].fillna(value = age_mean)"
   ]
  },
  {
   "cell_type": "code",
   "execution_count": 140,
   "metadata": {
    "colab": {
     "base_uri": "https://localhost:8080/",
     "height": 252
    },
    "executionInfo": {
     "elapsed": 8404,
     "status": "ok",
     "timestamp": 1670505746603,
     "user": {
      "displayName": "Mohit Kumar",
      "userId": "03888987891614882912"
     },
     "user_tz": -330
    },
    "id": "I6UgxlZmzuqQ",
    "outputId": "990b79d4-19d3-43cb-a2c9-2f6b5ea84eee"
   },
   "outputs": [
    {
     "data": {
      "image/png": "[encoded data removed]",
      "text/plain": [
       "<Figure size 432x288 with 2 Axes>"
      ]
     },
     "metadata": {
      "needs_background": "light"
     },
     "output_type": "display_data"
    }
   ],
   "source": [
    "graph1 = players.plot.scatter(x='Age',y='Player_Name', c= players['Age'], cmap='hot', s=20)"
   ]
  },
  {
   "cell_type": "markdown",
   "metadata": {
    "id": "CDNMj61A4z-3"
   },
   "source": [
    "## Deliveries Table"
   ]
  },
  {
   "cell_type": "code",
   "execution_count": 141,
   "metadata": {
    "colab": {
     "base_uri": "https://localhost:8080/",
     "height": 473
    },
    "executionInfo": {
     "elapsed": 43,
     "status": "ok",
     "timestamp": 1670505746605,
     "user": {
      "displayName": "Mohit Kumar",
      "userId": "03888987891614882912"
     },
     "user_tz": -330
    },
    "id": "bUjB-cOk5PAv",
    "outputId": "95dc706d-fdf9-4611-cf1e-4ce5d750608b"
   },
   "outputs": [
    {
     "data": {
      "text/html": [
       "\n",
       "  <div id=\"df-b13e1cc5-dd1d-4b68-972b-0897d4a62b78\">\n",
       "    <div class=\"colab-df-container\">\n",
       "      <div>\n",
       "<style scoped>\n",
       "    .dataframe tbody tr th:only-of-type {\n",
       "        vertical-align: middle;\n",
       "    }\n",
       "\n",
       "    .dataframe tbody tr th {\n",
       "        vertical-align: top;\n",
       "    }\n",
       "\n",
       "    .dataframe thead th {\n",
       "        text-align: right;\n",
       "    }\n",
       "</style>\n",
       "<table border=\"1\" class=\"dataframe\">\n",
       "  <thead>\n",
       "    <tr style=\"text-align: right;\">\n",
       "      <th></th>\n",
       "      <th>match_id</th>\n",
       "      <th>inning</th>\n",
       "      <th>batting_team</th>\n",
       "      <th>bowling_team</th>\n",
       "      <th>over</th>\n",
       "      <th>ball</th>\n",
       "      <th>batsman</th>\n",
       "      <th>non_striker</th>\n",
       "      <th>bowler</th>\n",
       "      <th>is_super_over</th>\n",
       "      <th>...</th>\n",
       "      <th>bye_runs</th>\n",
       "      <th>legbye_runs</th>\n",
       "      <th>noball_runs</th>\n",
       "      <th>penalty_runs</th>\n",
       "      <th>batsman_runs</th>\n",
       "      <th>extra_runs</th>\n",
       "      <th>total_runs</th>\n",
       "      <th>player_dismissed</th>\n",
       "      <th>dismissal_kind</th>\n",
       "      <th>fielder</th>\n",
       "    </tr>\n",
       "  </thead>\n",
       "  <tbody>\n",
       "    <tr>\n",
       "      <th>0</th>\n",
       "      <td>1</td>\n",
       "      <td>1</td>\n",
       "      <td>Sunrisers Hyderabad</td>\n",
       "      <td>Royal Challengers Bangalore</td>\n",
       "      <td>1</td>\n",
       "      <td>1</td>\n",
       "      <td>DA Warner</td>\n",
       "      <td>S Dhawan</td>\n",
       "      <td>TS Mills</td>\n",
       "      <td>0</td>\n",
       "      <td>...</td>\n",
       "      <td>0</td>\n",
       "      <td>0</td>\n",
       "      <td>0</td>\n",
       "      <td>0</td>\n",
       "      <td>0</td>\n",
       "      <td>0</td>\n",
       "      <td>0</td>\n",
       "      <td>NaN</td>\n",
       "      <td>NaN</td>\n",
       "      <td>NaN</td>\n",
       "    </tr>\n",
       "    <tr>\n",
       "      <th>1</th>\n",
       "      <td>1</td>\n",
       "      <td>1</td>\n",
       "      <td>Sunrisers Hyderabad</td>\n",
       "      <td>Royal Challengers Bangalore</td>\n",
       "      <td>1</td>\n",
       "      <td>2</td>\n",
       "      <td>DA Warner</td>\n",
       "      <td>S Dhawan</td>\n",
       "      <td>TS Mills</td>\n",
       "      <td>0</td>\n",
       "      <td>...</td>\n",
       "      <td>0</td>\n",
       "      <td>0</td>\n",
       "      <td>0</td>\n",
       "      <td>0</td>\n",
       "      <td>0</td>\n",
       "      <td>0</td>\n",
       "      <td>0</td>\n",
       "      <td>NaN</td>\n",
       "      <td>NaN</td>\n",
       "      <td>NaN</td>\n",
       "    </tr>\n",
       "    <tr>\n",
       "      <th>2</th>\n",
       "      <td>1</td>\n",
       "      <td>1</td>\n",
       "      <td>Sunrisers Hyderabad</td>\n",
       "      <td>Royal Challengers Bangalore</td>\n",
       "      <td>1</td>\n",
       "      <td>3</td>\n",
       "      <td>DA Warner</td>\n",
       "      <td>S Dhawan</td>\n",
       "      <td>TS Mills</td>\n",
       "      <td>0</td>\n",
       "      <td>...</td>\n",
       "      <td>0</td>\n",
       "      <td>0</td>\n",
       "      <td>0</td>\n",
       "      <td>0</td>\n",
       "      <td>4</td>\n",
       "      <td>0</td>\n",
       "      <td>4</td>\n",
       "      <td>NaN</td>\n",
       "      <td>NaN</td>\n",
       "      <td>NaN</td>\n",
       "    </tr>\n",
       "    <tr>\n",
       "      <th>3</th>\n",
       "      <td>1</td>\n",
       "      <td>1</td>\n",
       "      <td>Sunrisers Hyderabad</td>\n",
       "      <td>Royal Challengers Bangalore</td>\n",
       "      <td>1</td>\n",
       "      <td>4</td>\n",
       "      <td>DA Warner</td>\n",
       "      <td>S Dhawan</td>\n",
       "      <td>TS Mills</td>\n",
       "      <td>0</td>\n",
       "      <td>...</td>\n",
       "      <td>0</td>\n",
       "      <td>0</td>\n",
       "      <td>0</td>\n",
       "      <td>0</td>\n",
       "      <td>0</td>\n",
       "      <td>0</td>\n",
       "      <td>0</td>\n",
       "      <td>NaN</td>\n",
       "      <td>NaN</td>\n",
       "      <td>NaN</td>\n",
       "    </tr>\n",
       "    <tr>\n",
       "      <th>4</th>\n",
       "      <td>1</td>\n",
       "      <td>1</td>\n",
       "      <td>Sunrisers Hyderabad</td>\n",
       "      <td>Royal Challengers Bangalore</td>\n",
       "      <td>1</td>\n",
       "      <td>5</td>\n",
       "      <td>DA Warner</td>\n",
       "      <td>S Dhawan</td>\n",
       "      <td>TS Mills</td>\n",
       "      <td>0</td>\n",
       "      <td>...</td>\n",
       "      <td>0</td>\n",
       "      <td>0</td>\n",
       "      <td>0</td>\n",
       "      <td>0</td>\n",
       "      <td>0</td>\n",
       "      <td>2</td>\n",
       "      <td>2</td>\n",
       "      <td>NaN</td>\n",
       "      <td>NaN</td>\n",
       "      <td>NaN</td>\n",
       "    </tr>\n",
       "  </tbody>\n",
       "</table>\n",
       "<p>5 rows × 21 columns</p>\n",
       "</div>\n",
       "      <button class=\"colab-df-convert\" onclick=\"convertToInteractive('df-b13e1cc5-dd1d-4b68-972b-0897d4a62b78')\"\n",
       "              title=\"Convert this dataframe to an interactive table.\"\n",
       "              style=\"display:none;\">\n",
       "        \n",
       "  <svg xmlns=\"http://www.w3.org/2000/svg\" height=\"24px\"viewBox=\"0 0 24 24\"\n",
       "       width=\"24px\">\n",
       "    <path d=\"M0 0h24v24H0V0z\" fill=\"none\"/>\n",
       "    <path d=\"M18.56 5.44l.94 2.06.94-2.06 2.06-.94-2.06-.94-.94-2.06-.94 2.06-2.06.94zm-11 1L8.5 8.5l.94-2.06 2.06-.94-2.06-.94L8.5 2.5l-.94 2.06-2.06.94zm10 10l.94 2.06.94-2.06 2.06-.94-2.06-.94-.94-2.06-.94 2.06-2.06.94z\"/><path d=\"M17.41 7.96l-1.37-1.37c-.4-.4-.92-.59-1.43-.59-.52 0-1.04.2-1.43.59L10.3 9.45l-7.72 7.72c-.78.78-.78 2.05 0 2.83L4 21.41c.39.39.9.59 1.41.59.51 0 1.02-.2 1.41-.59l7.78-7.78 2.81-2.81c.8-.78.8-2.07 0-2.86zM5.41 20L4 18.59l7.72-7.72 1.47 1.35L5.41 20z\"/>\n",
       "  </svg>\n",
       "      </button>\n",
       "      \n",
       "  <style>\n",
       "    .colab-df-container {\n",
       "      display:flex;\n",
       "      flex-wrap:wrap;\n",
       "      gap: 12px;\n",
       "    }\n",
       "\n",
       "    .colab-df-convert {\n",
       "      background-color: #E8F0FE;\n",
       "      border: none;\n",
       "      border-radius: 50%;\n",
       "      cursor: pointer;\n",
       "      display: none;\n",
       "      fill: #1967D2;\n",
       "      height: 32px;\n",
       "      padding: 0 0 0 0;\n",
       "      width: 32px;\n",
       "    }\n",
       "\n",
       "    .colab-df-convert:hover {\n",
       "      background-color: #E2EBFA;\n",
       "      box-shadow: 0px 1px 2px rgba(60, 64, 67, 0.3), 0px 1px 3px 1px rgba(60, 64, 67, 0.15);\n",
       "      fill: #174EA6;\n",
       "    }\n",
       "\n",
       "    [theme=dark] .colab-df-convert {\n",
       "      background-color: #3B4455;\n",
       "      fill: #D2E3FC;\n",
       "    }\n",
       "\n",
       "    [theme=dark] .colab-df-convert:hover {\n",
       "      background-color: #434B5C;\n",
       "      box-shadow: 0px 1px 3px 1px rgba(0, 0, 0, 0.15);\n",
       "      filter: drop-shadow(0px 1px 2px rgba(0, 0, 0, 0.3));\n",
       "      fill: #FFFFFF;\n",
       "    }\n",
       "  </style>\n",
       "\n",
       "      <script>\n",
       "        const buttonEl =\n",
       "          document.querySelector('#df-b13e1cc5-dd1d-4b68-972b-0897d4a62b78 button.colab-df-convert');\n",
       "        buttonEl.style.display =\n",
       "          google.colab.kernel.accessAllowed ? 'block' : 'none';\n",
       "\n",
       "        async function convertToInteractive(key) {\n",
       "          const element = document.querySelector('#df-b13e1cc5-dd1d-4b68-972b-0897d4a62b78');\n",
       "          const dataTable =\n",
       "            await google.colab.kernel.invokeFunction('convertToInteractive',\n",
       "                                                     [key], {});\n",
       "          if (!dataTable) return;\n",
       "\n",
       "          const docLinkHtml = 'Like what you see? Visit the ' +\n",
       "            '<a target=\"_blank\" href=https://colab.research.google.com/notebooks/data_table.ipynb>data table notebook</a>'\n",
       "            + ' to learn more about interactive tables.';\n",
       "          element.innerHTML = '';\n",
       "          dataTable['output_type'] = 'display_data';\n",
       "          await google.colab.output.renderOutput(dataTable, element);\n",
       "          const docLink = document.createElement('div');\n",
       "          docLink.innerHTML = docLinkHtml;\n",
       "          element.appendChild(docLink);\n",
       "        }\n",
       "      </script>\n",
       "    </div>\n",
       "  </div>\n",
       "  "
      ],
      "text/plain": [
       "   match_id  inning         batting_team                 bowling_team  over  \\\n",
       "0         1       1  Sunrisers Hyderabad  Royal Challengers Bangalore     1   \n",
       "1         1       1  Sunrisers Hyderabad  Royal Challengers Bangalore     1   \n",
       "2         1       1  Sunrisers Hyderabad  Royal Challengers Bangalore     1   \n",
       "3         1       1  Sunrisers Hyderabad  Royal Challengers Bangalore     1   \n",
       "4         1       1  Sunrisers Hyderabad  Royal Challengers Bangalore     1   \n",
       "\n",
       "   ball    batsman non_striker    bowler  is_super_over  ...  bye_runs  \\\n",
       "0     1  DA Warner    S Dhawan  TS Mills              0  ...         0   \n",
       "1     2  DA Warner    S Dhawan  TS Mills              0  ...         0   \n",
       "2     3  DA Warner    S Dhawan  TS Mills              0  ...         0   \n",
       "3     4  DA Warner    S Dhawan  TS Mills              0  ...         0   \n",
       "4     5  DA Warner    S Dhawan  TS Mills              0  ...         0   \n",
       "\n",
       "   legbye_runs  noball_runs  penalty_runs  batsman_runs  extra_runs  \\\n",
       "0            0            0             0             0           0   \n",
       "1            0            0             0             0           0   \n",
       "2            0            0             0             4           0   \n",
       "3            0            0             0             0           0   \n",
       "4            0            0             0             0           2   \n",
       "\n",
       "   total_runs  player_dismissed dismissal_kind fielder  \n",
       "0           0               NaN            NaN     NaN  \n",
       "1           0               NaN            NaN     NaN  \n",
       "2           4               NaN            NaN     NaN  \n",
       "3           0               NaN            NaN     NaN  \n",
       "4           2               NaN            NaN     NaN  \n",
       "\n",
       "[5 rows x 21 columns]"
      ]
     },
     "execution_count": 141,
     "metadata": {},
     "output_type": "execute_result"
    }
   ],
   "source": [
    "deliveries.head()"
   ]
  },
  {
   "cell_type": "code",
   "execution_count": 142,
   "metadata": {
    "colab": {
     "base_uri": "https://localhost:8080/"
    },
    "executionInfo": {
     "elapsed": 41,
     "status": "ok",
     "timestamp": 1670505746606,
     "user": {
      "displayName": "Mohit Kumar",
      "userId": "03888987891614882912"
     },
     "user_tz": -330
    },
    "id": "jq9r9-070uS4",
    "outputId": "69aced63-63ac-4591-ce24-c898c21e83c4"
   },
   "outputs": [
    {
     "name": "stdout",
     "output_type": "stream",
     "text": [
      "<class 'pandas.core.frame.DataFrame'>\n",
      "RangeIndex: 179078 entries, 0 to 179077\n",
      "Data columns (total 21 columns):\n",
      " #   Column            Non-Null Count   Dtype \n",
      "---  ------            --------------   ----- \n",
      " 0   match_id          179078 non-null  int64 \n",
      " 1   inning            179078 non-null  int64 \n",
      " 2   batting_team      179078 non-null  object\n",
      " 3   bowling_team      179078 non-null  object\n",
      " 4   over              179078 non-null  int64 \n",
      " 5   ball              179078 non-null  int64 \n",
      " 6   batsman           179078 non-null  object\n",
      " 7   non_striker       179078 non-null  object\n",
      " 8   bowler            179078 non-null  object\n",
      " 9   is_super_over     179078 non-null  int64 \n",
      " 10  wide_runs         179078 non-null  int64 \n",
      " 11  bye_runs          179078 non-null  int64 \n",
      " 12  legbye_runs       179078 non-null  int64 \n",
      " 13  noball_runs       179078 non-null  int64 \n",
      " 14  penalty_runs      179078 non-null  int64 \n",
      " 15  batsman_runs      179078 non-null  int64 \n",
      " 16  extra_runs        179078 non-null  int64 \n",
      " 17  total_runs        179078 non-null  int64 \n",
      " 18  player_dismissed  8834 non-null    object\n",
      " 19  dismissal_kind    8834 non-null    object\n",
      " 20  fielder           6448 non-null    object\n",
      "dtypes: int64(13), object(8)\n",
      "memory usage: 28.7+ MB\n"
     ]
    }
   ],
   "source": [
    "deliveries.info()"
   ]
  },
  {
   "cell_type": "code",
   "execution_count": 143,
   "metadata": {
    "colab": {
     "base_uri": "https://localhost:8080/"
    },
    "executionInfo": {
     "elapsed": 33,
     "status": "ok",
     "timestamp": 1670505746607,
     "user": {
      "displayName": "Mohit Kumar",
      "userId": "03888987891614882912"
     },
     "user_tz": -330
    },
    "id": "9Aghx7kl430-",
    "outputId": "04888131-6957-4da1-f192-9a32140b9eb3"
   },
   "outputs": [
    {
     "data": {
      "text/plain": [
       "match_id             0.000000\n",
       "inning               0.000000\n",
       "batting_team         0.000000\n",
       "bowling_team         0.000000\n",
       "over                 0.000000\n",
       "ball                 0.000000\n",
       "batsman              0.000000\n",
       "non_striker          0.000000\n",
       "bowler               0.000000\n",
       "is_super_over        0.000000\n",
       "wide_runs            0.000000\n",
       "bye_runs             0.000000\n",
       "legbye_runs          0.000000\n",
       "noball_runs          0.000000\n",
       "penalty_runs         0.000000\n",
       "batsman_runs         0.000000\n",
       "extra_runs           0.000000\n",
       "total_runs           0.000000\n",
       "player_dismissed    95.066954\n",
       "dismissal_kind      95.066954\n",
       "fielder             96.399334\n",
       "dtype: float64"
      ]
     },
     "execution_count": 143,
     "metadata": {},
     "output_type": "execute_result"
    }
   ],
   "source": [
    "percent_missing_deliveries = deliveries.isnull().sum() * 100 / len(deliveries)\n",
    "percent_missing_deliveries"
   ]
  },
  {
   "cell_type": "code",
   "execution_count": 143,
   "metadata": {
    "executionInfo": {
     "elapsed": 28,
     "status": "ok",
     "timestamp": 1670505746608,
     "user": {
      "displayName": "Mohit Kumar",
      "userId": "03888987891614882912"
     },
     "user_tz": -330
    },
    "id": "BS3-DENd5Ylf"
   },
   "outputs": [],
   "source": []
  },
  {
   "cell_type": "markdown",
   "metadata": {
    "id": "Stc8j5xb5z-H"
   },
   "source": [
    "## Matches Table"
   ]
  },
  {
   "cell_type": "code",
   "execution_count": 146,
   "metadata": {
    "colab": {
     "base_uri": "https://localhost:8080/",
     "height": 496
    },
    "executionInfo": {
     "elapsed": 8,
     "status": "ok",
     "timestamp": 1670506284440,
     "user": {
      "displayName": "Mohit Kumar",
      "userId": "03888987891614882912"
     },
     "user_tz": -330
    },
    "id": "AE0juaJt7uWN",
    "outputId": "185d5a0a-52c1-42a1-a64f-578ddcdd5af1"
   },
   "outputs": [
    {
     "data": {
      "text/html": [
       "\n",
       "  <div id=\"df-0acad91e-97ee-4ccb-8b78-dc20731e57a6\">\n",
       "    <div class=\"colab-df-container\">\n",
       "      <div>\n",
       "<style scoped>\n",
       "    .dataframe tbody tr th:only-of-type {\n",
       "        vertical-align: middle;\n",
       "    }\n",
       "\n",
       "    .dataframe tbody tr th {\n",
       "        vertical-align: top;\n",
       "    }\n",
       "\n",
       "    .dataframe thead th {\n",
       "        text-align: right;\n",
       "    }\n",
       "</style>\n",
       "<table border=\"1\" class=\"dataframe\">\n",
       "  <thead>\n",
       "    <tr style=\"text-align: right;\">\n",
       "      <th></th>\n",
       "      <th>id</th>\n",
       "      <th>Season</th>\n",
       "      <th>city</th>\n",
       "      <th>date</th>\n",
       "      <th>team1</th>\n",
       "      <th>team2</th>\n",
       "      <th>toss_winner</th>\n",
       "      <th>toss_decision</th>\n",
       "      <th>result</th>\n",
       "      <th>dl_applied</th>\n",
       "      <th>winner</th>\n",
       "      <th>win_by_runs</th>\n",
       "      <th>win_by_wickets</th>\n",
       "      <th>player_of_match</th>\n",
       "      <th>venue</th>\n",
       "      <th>umpire1</th>\n",
       "      <th>umpire2</th>\n",
       "      <th>umpire3</th>\n",
       "    </tr>\n",
       "  </thead>\n",
       "  <tbody>\n",
       "    <tr>\n",
       "      <th>0</th>\n",
       "      <td>1</td>\n",
       "      <td>IPL-2017</td>\n",
       "      <td>Hyderabad</td>\n",
       "      <td>05-04-2017</td>\n",
       "      <td>Sunrisers Hyderabad</td>\n",
       "      <td>Royal Challengers Bangalore</td>\n",
       "      <td>Royal Challengers Bangalore</td>\n",
       "      <td>field</td>\n",
       "      <td>normal</td>\n",
       "      <td>0</td>\n",
       "      <td>Sunrisers Hyderabad</td>\n",
       "      <td>35</td>\n",
       "      <td>0</td>\n",
       "      <td>Yuvraj Singh</td>\n",
       "      <td>Rajiv Gandhi International Stadium, Uppal</td>\n",
       "      <td>AY Dandekar</td>\n",
       "      <td>NJ Llong</td>\n",
       "      <td>NaN</td>\n",
       "    </tr>\n",
       "    <tr>\n",
       "      <th>1</th>\n",
       "      <td>2</td>\n",
       "      <td>IPL-2017</td>\n",
       "      <td>Pune</td>\n",
       "      <td>06-04-2017</td>\n",
       "      <td>Mumbai Indians</td>\n",
       "      <td>Rising Pune Supergiant</td>\n",
       "      <td>Rising Pune Supergiant</td>\n",
       "      <td>field</td>\n",
       "      <td>normal</td>\n",
       "      <td>0</td>\n",
       "      <td>Rising Pune Supergiant</td>\n",
       "      <td>0</td>\n",
       "      <td>7</td>\n",
       "      <td>SPD Smith</td>\n",
       "      <td>Maharashtra Cricket Association Stadium</td>\n",
       "      <td>A Nand Kishore</td>\n",
       "      <td>S Ravi</td>\n",
       "      <td>NaN</td>\n",
       "    </tr>\n",
       "    <tr>\n",
       "      <th>2</th>\n",
       "      <td>3</td>\n",
       "      <td>IPL-2017</td>\n",
       "      <td>Rajkot</td>\n",
       "      <td>07-04-2017</td>\n",
       "      <td>Gujarat Lions</td>\n",
       "      <td>Kolkata Knight Riders</td>\n",
       "      <td>Kolkata Knight Riders</td>\n",
       "      <td>field</td>\n",
       "      <td>normal</td>\n",
       "      <td>0</td>\n",
       "      <td>Kolkata Knight Riders</td>\n",
       "      <td>0</td>\n",
       "      <td>10</td>\n",
       "      <td>CA Lynn</td>\n",
       "      <td>Saurashtra Cricket Association Stadium</td>\n",
       "      <td>Nitin Menon</td>\n",
       "      <td>CK Nandan</td>\n",
       "      <td>NaN</td>\n",
       "    </tr>\n",
       "    <tr>\n",
       "      <th>3</th>\n",
       "      <td>4</td>\n",
       "      <td>IPL-2017</td>\n",
       "      <td>Indore</td>\n",
       "      <td>08-04-2017</td>\n",
       "      <td>Rising Pune Supergiant</td>\n",
       "      <td>Kings XI Punjab</td>\n",
       "      <td>Kings XI Punjab</td>\n",
       "      <td>field</td>\n",
       "      <td>normal</td>\n",
       "      <td>0</td>\n",
       "      <td>Kings XI Punjab</td>\n",
       "      <td>0</td>\n",
       "      <td>6</td>\n",
       "      <td>GJ Maxwell</td>\n",
       "      <td>Holkar Cricket Stadium</td>\n",
       "      <td>AK Chaudhary</td>\n",
       "      <td>C Shamshuddin</td>\n",
       "      <td>NaN</td>\n",
       "    </tr>\n",
       "    <tr>\n",
       "      <th>4</th>\n",
       "      <td>5</td>\n",
       "      <td>IPL-2017</td>\n",
       "      <td>Bangalore</td>\n",
       "      <td>08-04-2017</td>\n",
       "      <td>Royal Challengers Bangalore</td>\n",
       "      <td>Delhi Daredevils</td>\n",
       "      <td>Royal Challengers Bangalore</td>\n",
       "      <td>bat</td>\n",
       "      <td>normal</td>\n",
       "      <td>0</td>\n",
       "      <td>Royal Challengers Bangalore</td>\n",
       "      <td>15</td>\n",
       "      <td>0</td>\n",
       "      <td>KM Jadhav</td>\n",
       "      <td>M Chinnaswamy Stadium</td>\n",
       "      <td>NaN</td>\n",
       "      <td>NaN</td>\n",
       "      <td>NaN</td>\n",
       "    </tr>\n",
       "  </tbody>\n",
       "</table>\n",
       "</div>\n",
       "      <button class=\"colab-df-convert\" onclick=\"convertToInteractive('df-0acad91e-97ee-4ccb-8b78-dc20731e57a6')\"\n",
       "              title=\"Convert this dataframe to an interactive table.\"\n",
       "              style=\"display:none;\">\n",
       "        \n",
       "  <svg xmlns=\"http://www.w3.org/2000/svg\" height=\"24px\"viewBox=\"0 0 24 24\"\n",
       "       width=\"24px\">\n",
       "    <path d=\"M0 0h24v24H0V0z\" fill=\"none\"/>\n",
       "    <path d=\"M18.56 5.44l.94 2.06.94-2.06 2.06-.94-2.06-.94-.94-2.06-.94 2.06-2.06.94zm-11 1L8.5 8.5l.94-2.06 2.06-.94-2.06-.94L8.5 2.5l-.94 2.06-2.06.94zm10 10l.94 2.06.94-2.06 2.06-.94-2.06-.94-.94-2.06-.94 2.06-2.06.94z\"/><path d=\"M17.41 7.96l-1.37-1.37c-.4-.4-.92-.59-1.43-.59-.52 0-1.04.2-1.43.59L10.3 9.45l-7.72 7.72c-.78.78-.78 2.05 0 2.83L4 21.41c.39.39.9.59 1.41.59.51 0 1.02-.2 1.41-.59l7.78-7.78 2.81-2.81c.8-.78.8-2.07 0-2.86zM5.41 20L4 18.59l7.72-7.72 1.47 1.35L5.41 20z\"/>\n",
       "  </svg>\n",
       "      </button>\n",
       "      \n",
       "  <style>\n",
       "    .colab-df-container {\n",
       "      display:flex;\n",
       "      flex-wrap:wrap;\n",
       "      gap: 12px;\n",
       "    }\n",
       "\n",
       "    .colab-df-convert {\n",
       "      background-color: #E8F0FE;\n",
       "      border: none;\n",
       "      border-radius: 50%;\n",
       "      cursor: pointer;\n",
       "      display: none;\n",
       "      fill: #1967D2;\n",
       "      height: 32px;\n",
       "      padding: 0 0 0 0;\n",
       "      width: 32px;\n",
       "    }\n",
       "\n",
       "    .colab-df-convert:hover {\n",
       "      background-color: #E2EBFA;\n",
       "      box-shadow: 0px 1px 2px rgba(60, 64, 67, 0.3), 0px 1px 3px 1px rgba(60, 64, 67, 0.15);\n",
       "      fill: #174EA6;\n",
       "    }\n",
       "\n",
       "    [theme=dark] .colab-df-convert {\n",
       "      background-color: #3B4455;\n",
       "      fill: #D2E3FC;\n",
       "    }\n",
       "\n",
       "    [theme=dark] .colab-df-convert:hover {\n",
       "      background-color: #434B5C;\n",
       "      box-shadow: 0px 1px 3px 1px rgba(0, 0, 0, 0.15);\n",
       "      filter: drop-shadow(0px 1px 2px rgba(0, 0, 0, 0.3));\n",
       "      fill: #FFFFFF;\n",
       "    }\n",
       "  </style>\n",
       "\n",
       "      <script>\n",
       "        const buttonEl =\n",
       "          document.querySelector('#df-0acad91e-97ee-4ccb-8b78-dc20731e57a6 button.colab-df-convert');\n",
       "        buttonEl.style.display =\n",
       "          google.colab.kernel.accessAllowed ? 'block' : 'none';\n",
       "\n",
       "        async function convertToInteractive(key) {\n",
       "          const element = document.querySelector('#df-0acad91e-97ee-4ccb-8b78-dc20731e57a6');\n",
       "          const dataTable =\n",
       "            await google.colab.kernel.invokeFunction('convertToInteractive',\n",
       "                                                     [key], {});\n",
       "          if (!dataTable) return;\n",
       "\n",
       "          const docLinkHtml = 'Like what you see? Visit the ' +\n",
       "            '<a target=\"_blank\" href=https://colab.research.google.com/notebooks/data_table.ipynb>data table notebook</a>'\n",
       "            + ' to learn more about interactive tables.';\n",
       "          element.innerHTML = '';\n",
       "          dataTable['output_type'] = 'display_data';\n",
       "          await google.colab.output.renderOutput(dataTable, element);\n",
       "          const docLink = document.createElement('div');\n",
       "          docLink.innerHTML = docLinkHtml;\n",
       "          element.appendChild(docLink);\n",
       "        }\n",
       "      </script>\n",
       "    </div>\n",
       "  </div>\n",
       "  "
      ],
      "text/plain": [
       "   id    Season       city        date                        team1  \\\n",
       "0   1  IPL-2017  Hyderabad  05-04-2017          Sunrisers Hyderabad   \n",
       "1   2  IPL-2017       Pune  06-04-2017               Mumbai Indians   \n",
       "2   3  IPL-2017     Rajkot  07-04-2017                Gujarat Lions   \n",
       "3   4  IPL-2017     Indore  08-04-2017       Rising Pune Supergiant   \n",
       "4   5  IPL-2017  Bangalore  08-04-2017  Royal Challengers Bangalore   \n",
       "\n",
       "                         team2                  toss_winner toss_decision  \\\n",
       "0  Royal Challengers Bangalore  Royal Challengers Bangalore         field   \n",
       "1       Rising Pune Supergiant       Rising Pune Supergiant         field   \n",
       "2        Kolkata Knight Riders        Kolkata Knight Riders         field   \n",
       "3              Kings XI Punjab              Kings XI Punjab         field   \n",
       "4             Delhi Daredevils  Royal Challengers Bangalore           bat   \n",
       "\n",
       "   result  dl_applied                       winner  win_by_runs  \\\n",
       "0  normal           0          Sunrisers Hyderabad           35   \n",
       "1  normal           0       Rising Pune Supergiant            0   \n",
       "2  normal           0        Kolkata Knight Riders            0   \n",
       "3  normal           0              Kings XI Punjab            0   \n",
       "4  normal           0  Royal Challengers Bangalore           15   \n",
       "\n",
       "   win_by_wickets player_of_match                                      venue  \\\n",
       "0               0    Yuvraj Singh  Rajiv Gandhi International Stadium, Uppal   \n",
       "1               7       SPD Smith    Maharashtra Cricket Association Stadium   \n",
       "2              10         CA Lynn     Saurashtra Cricket Association Stadium   \n",
       "3               6      GJ Maxwell                     Holkar Cricket Stadium   \n",
       "4               0       KM Jadhav                      M Chinnaswamy Stadium   \n",
       "\n",
       "          umpire1        umpire2 umpire3  \n",
       "0     AY Dandekar       NJ Llong     NaN  \n",
       "1  A Nand Kishore         S Ravi     NaN  \n",
       "2     Nitin Menon      CK Nandan     NaN  \n",
       "3    AK Chaudhary  C Shamshuddin     NaN  \n",
       "4             NaN            NaN     NaN  "
      ]
     },
     "execution_count": 146,
     "metadata": {},
     "output_type": "execute_result"
    }
   ],
   "source": [
    "matches.head()"
   ]
  },
  {
   "cell_type": "code",
   "execution_count": 180,
   "metadata": {
    "colab": {
     "base_uri": "https://localhost:8080/"
    },
    "executionInfo": {
     "elapsed": 936,
     "status": "ok",
     "timestamp": 1670513803920,
     "user": {
      "displayName": "Mohit Kumar",
      "userId": "03888987891614882912"
     },
     "user_tz": -330
    },
    "id": "CmQf1SPnYaPD",
    "outputId": "bfa37c44-c34d-4430-86b0-3dd288838804"
   },
   "outputs": [
    {
     "name": "stdout",
     "output_type": "stream",
     "text": [
      "Shape of matches data (756, 18)\n"
     ]
    }
   ],
   "source": [
    "# Shape Of the Dataset\n",
    "print('Shape of matches data',matches.shape)"
   ]
  },
  {
   "cell_type": "code",
   "execution_count": 144,
   "metadata": {
    "colab": {
     "base_uri": "https://localhost:8080/"
    },
    "executionInfo": {
     "elapsed": 6,
     "status": "ok",
     "timestamp": 1670506015882,
     "user": {
      "displayName": "Mohit Kumar",
      "userId": "03888987891614882912"
     },
     "user_tz": -330
    },
    "id": "SDZDuTnN53CQ",
    "outputId": "e9299b90-acc4-4b74-f316-77a16dff1130"
   },
   "outputs": [
    {
     "name": "stdout",
     "output_type": "stream",
     "text": [
      "<class 'pandas.core.frame.DataFrame'>\n",
      "RangeIndex: 756 entries, 0 to 755\n",
      "Data columns (total 18 columns):\n",
      " #   Column           Non-Null Count  Dtype \n",
      "---  ------           --------------  ----- \n",
      " 0   id               756 non-null    int64 \n",
      " 1   Season           756 non-null    object\n",
      " 2   city             749 non-null    object\n",
      " 3   date             756 non-null    object\n",
      " 4   team1            756 non-null    object\n",
      " 5   team2            756 non-null    object\n",
      " 6   toss_winner      756 non-null    object\n",
      " 7   toss_decision    756 non-null    object\n",
      " 8   result           756 non-null    object\n",
      " 9   dl_applied       756 non-null    int64 \n",
      " 10  winner           752 non-null    object\n",
      " 11  win_by_runs      756 non-null    int64 \n",
      " 12  win_by_wickets   756 non-null    int64 \n",
      " 13  player_of_match  752 non-null    object\n",
      " 14  venue            756 non-null    object\n",
      " 15  umpire1          754 non-null    object\n",
      " 16  umpire2          754 non-null    object\n",
      " 17  umpire3          119 non-null    object\n",
      "dtypes: int64(4), object(14)\n",
      "memory usage: 106.4+ KB\n"
     ]
    }
   ],
   "source": [
    "matches.info()"
   ]
  },
  {
   "cell_type": "code",
   "execution_count": 181,
   "metadata": {
    "colab": {
     "base_uri": "https://localhost:8080/"
    },
    "executionInfo": {
     "elapsed": 16,
     "status": "ok",
     "timestamp": 1670513833576,
     "user": {
      "displayName": "Mohit Kumar",
      "userId": "03888987891614882912"
     },
     "user_tz": -330
    },
    "id": "-vlW0z8qYiO9",
    "outputId": "fda4f814-666d-4c2f-b650-bdf0ea86eef3"
   },
   "outputs": [
    {
     "data": {
      "text/plain": [
       "id                   0\n",
       "Season               0\n",
       "city                 7\n",
       "date                 0\n",
       "team1                0\n",
       "team2                0\n",
       "toss_winner          0\n",
       "toss_decision        0\n",
       "result               0\n",
       "dl_applied           0\n",
       "winner               4\n",
       "win_by_runs          0\n",
       "win_by_wickets       0\n",
       "player_of_match      4\n",
       "venue                0\n",
       "umpire1              2\n",
       "umpire2              2\n",
       "umpire3            637\n",
       "dtype: int64"
      ]
     },
     "execution_count": 181,
     "metadata": {},
     "output_type": "execute_result"
    }
   ],
   "source": [
    "matches.isnull().sum()"
   ]
  },
  {
   "cell_type": "code",
   "execution_count": 145,
   "metadata": {
    "colab": {
     "base_uri": "https://localhost:8080/"
    },
    "executionInfo": {
     "elapsed": 625,
     "status": "ok",
     "timestamp": 1670506244076,
     "user": {
      "displayName": "Mohit Kumar",
      "userId": "03888987891614882912"
     },
     "user_tz": -330
    },
    "id": "KKpTBn2g6SPe",
    "outputId": "d3e7849f-ea50-4a2e-b557-ab8cf00ba1c6"
   },
   "outputs": [
    {
     "data": {
      "text/plain": [
       "id                  0.000000\n",
       "Season              0.000000\n",
       "city                0.925926\n",
       "date                0.000000\n",
       "team1               0.000000\n",
       "team2               0.000000\n",
       "toss_winner         0.000000\n",
       "toss_decision       0.000000\n",
       "result              0.000000\n",
       "dl_applied          0.000000\n",
       "winner              0.529101\n",
       "win_by_runs         0.000000\n",
       "win_by_wickets      0.000000\n",
       "player_of_match     0.529101\n",
       "venue               0.000000\n",
       "umpire1             0.264550\n",
       "umpire2             0.264550\n",
       "umpire3            84.259259\n",
       "dtype: float64"
      ]
     },
     "execution_count": 145,
     "metadata": {},
     "output_type": "execute_result"
    }
   ],
   "source": [
    "percent_missing_matches = matches.isnull().sum() * 100 / len(matches)\n",
    "percent_missing_matches"
   ]
  },
  {
   "cell_type": "markdown",
   "metadata": {
    "id": "MDCnYpLIGka6"
   },
   "source": [
    "### Season Column"
   ]
  },
  {
   "cell_type": "code",
   "execution_count": 147,
   "metadata": {
    "colab": {
     "base_uri": "https://localhost:8080/"
    },
    "executionInfo": {
     "elapsed": 7,
     "status": "ok",
     "timestamp": 1670506747342,
     "user": {
      "displayName": "Mohit Kumar",
      "userId": "03888987891614882912"
     },
     "user_tz": -330
    },
    "id": "3SBekXoS6SHm",
    "outputId": "24ce4cc7-3c1b-409c-d252-69c9c29383a9"
   },
   "outputs": [
    {
     "data": {
      "text/plain": [
       "array(['IPL-2017', 'IPL-2008', 'IPL-2009', 'IPL-2010', 'IPL-2011',\n",
       "       'IPL-2012', 'IPL-2013', 'IPL-2014', 'IPL-2015', 'IPL-2016',\n",
       "       'IPL-2018', 'IPL-2019'], dtype=object)"
      ]
     },
     "execution_count": 147,
     "metadata": {},
     "output_type": "execute_result"
    }
   ],
   "source": [
    "matches['Season'].unique()"
   ]
  },
  {
   "cell_type": "code",
   "execution_count": 157,
   "metadata": {
    "executionInfo": {
     "elapsed": 4,
     "status": "ok",
     "timestamp": 1670507553514,
     "user": {
      "displayName": "Mohit Kumar",
      "userId": "03888987891614882912"
     },
     "user_tz": -330
    },
    "id": "j6xeES846SD6"
   },
   "outputs": [],
   "source": [
    "matches['Season'] = matches['Season'].replace(['IPL-2017', 'IPL-2008', 'IPL-2009', 'IPL-2010', 'IPL-2011',\n",
    "       'IPL-2012', 'IPL-2013', 'IPL-2014', 'IPL-2015', 'IPL-2016',\n",
    "       'IPL-2018', 'IPL-2019'] , ['10','1','2','3','4','5','6','7','8','9','11','12']\n",
    ")"
   ]
  },
  {
   "cell_type": "code",
   "execution_count": 158,
   "metadata": {
    "colab": {
     "base_uri": "https://localhost:8080/",
     "height": 36
    },
    "executionInfo": {
     "elapsed": 8,
     "status": "ok",
     "timestamp": 1670507555605,
     "user": {
      "displayName": "Mohit Kumar",
      "userId": "03888987891614882912"
     },
     "user_tz": -330
    },
    "id": "nNHiBtWN6SBR",
    "outputId": "87a72388-5b74-4a83-c56c-78c3543f416f"
   },
   "outputs": [
    {
     "data": {
      "application/vnd.google.colaboratory.intrinsic+json": {
       "type": "string"
      },
      "text/plain": [
       "'1'"
      ]
     },
     "execution_count": 158,
     "metadata": {},
     "output_type": "execute_result"
    }
   ],
   "source": [
    "matches['Season'][75]"
   ]
  },
  {
   "cell_type": "code",
   "execution_count": 160,
   "metadata": {
    "colab": {
     "base_uri": "https://localhost:8080/"
    },
    "executionInfo": {
     "elapsed": 5,
     "status": "ok",
     "timestamp": 1670509077089,
     "user": {
      "displayName": "Mohit Kumar",
      "userId": "03888987891614882912"
     },
     "user_tz": -330
    },
    "id": "_CLFPgMDGZZt",
    "outputId": "33a55750-e4e0-403e-8e56-33740bb7d04c"
   },
   "outputs": [
    {
     "data": {
      "text/plain": [
       "6     76\n",
       "5     74\n",
       "4     73\n",
       "3     60\n",
       "7     60\n",
       "9     60\n",
       "11    60\n",
       "12    60\n",
       "10    59\n",
       "8     59\n",
       "1     58\n",
       "2     57\n",
       "Name: Season, dtype: int64"
      ]
     },
     "execution_count": 160,
     "metadata": {},
     "output_type": "execute_result"
    }
   ],
   "source": [
    "matches['Season'].value_counts()"
   ]
  },
  {
   "cell_type": "markdown",
   "metadata": {
    "id": "IriSSDyKGods"
   },
   "source": [
    "Matches per season"
   ]
  },
  {
   "cell_type": "code",
   "execution_count": 159,
   "metadata": {
    "colab": {
     "base_uri": "https://localhost:8080/",
     "height": 282
    },
    "executionInfo": {
     "elapsed": 401,
     "status": "ok",
     "timestamp": 1670509058015,
     "user": {
      "displayName": "Mohit Kumar",
      "userId": "03888987891614882912"
     },
     "user_tz": -330
    },
    "id": "WFK0dTvF6R-N",
    "outputId": "a9937dad-1f24-4760-8a69-150c492e2cf2"
   },
   "outputs": [
    {
     "data": {
      "text/plain": [
       "<matplotlib.axes._subplots.AxesSubplot at 0x7f431bcc46a0>"
      ]
     },
     "execution_count": 159,
     "metadata": {},
     "output_type": "execute_result"
    },
    {
     "data": {
      "image/png": "[encoded data removed]",
      "text/plain": [
       "<Figure size 432x288 with 1 Axes>"
      ]
     },
     "metadata": {
      "needs_background": "light"
     },
     "output_type": "display_data"
    }
   ],
   "source": [
    "matches['Season'].value_counts().plot(kind='barh')"
   ]
  },
  {
   "cell_type": "markdown",
   "metadata": {
    "id": "lFgNG4-UGxBa"
   },
   "source": [
    "### City Column"
   ]
  },
  {
   "cell_type": "code",
   "execution_count": 165,
   "metadata": {
    "colab": {
     "base_uri": "https://localhost:8080/"
    },
    "executionInfo": {
     "elapsed": 1006,
     "status": "ok",
     "timestamp": 1670509277785,
     "user": {
      "displayName": "Mohit Kumar",
      "userId": "03888987891614882912"
     },
     "user_tz": -330
    },
    "id": "YNJZlXWVGzWL",
    "outputId": "772ef10f-59ce-4abe-e2c5-f89cd7020e70"
   },
   "outputs": [
    {
     "data": {
      "text/plain": [
       "Mumbai            101\n",
       "Kolkata            77\n",
       "Delhi              74\n",
       "Bangalore          66\n",
       "Hyderabad          64\n",
       "Chennai            57\n",
       "Jaipur             47\n",
       "Chandigarh         46\n",
       "Pune               38\n",
       "Durban             15\n",
       "Bengaluru          14\n",
       "Visakhapatnam      13\n",
       "Centurion          12\n",
       "Ahmedabad          12\n",
       "Rajkot             10\n",
       "Mohali             10\n",
       "Indore              9\n",
       "Dharamsala          9\n",
       "Johannesburg        8\n",
       "Cuttack             7\n",
       "Ranchi              7\n",
       "Port Elizabeth      7\n",
       "Cape Town           7\n",
       "Abu Dhabi           7\n",
       "Sharjah             6\n",
       "Raipur              6\n",
       "Kochi               5\n",
       "Kanpur              4\n",
       "Nagpur              3\n",
       "Kimberley           3\n",
       "East London         3\n",
       "Bloemfontein        2\n",
       "Name: city, dtype: int64"
      ]
     },
     "execution_count": 165,
     "metadata": {},
     "output_type": "execute_result"
    }
   ],
   "source": [
    "matches['city'].value_counts()"
   ]
  },
  {
   "cell_type": "code",
   "execution_count": 170,
   "metadata": {
    "colab": {
     "base_uri": "https://localhost:8080/",
     "height": 312
    },
    "executionInfo": {
     "elapsed": 7,
     "status": "ok",
     "timestamp": 1670509518138,
     "user": {
      "displayName": "Mohit Kumar",
      "userId": "03888987891614882912"
     },
     "user_tz": -330
    },
    "id": "emfwSW1OHp4c",
    "outputId": "1f575d38-3208-4b8d-d751-5b68e33c22e8"
   },
   "outputs": [
    {
     "data": {
      "text/html": [
       "\n",
       "  <div id=\"df-15742c96-7eb2-4268-8d29-96df159c16ea\">\n",
       "    <div class=\"colab-df-container\">\n",
       "      <div>\n",
       "<style scoped>\n",
       "    .dataframe tbody tr th:only-of-type {\n",
       "        vertical-align: middle;\n",
       "    }\n",
       "\n",
       "    .dataframe tbody tr th {\n",
       "        vertical-align: top;\n",
       "    }\n",
       "\n",
       "    .dataframe thead th {\n",
       "        text-align: right;\n",
       "    }\n",
       "</style>\n",
       "<table border=\"1\" class=\"dataframe\">\n",
       "  <thead>\n",
       "    <tr style=\"text-align: right;\">\n",
       "      <th></th>\n",
       "      <th>id</th>\n",
       "      <th>Season</th>\n",
       "      <th>city</th>\n",
       "      <th>date</th>\n",
       "      <th>team1</th>\n",
       "      <th>team2</th>\n",
       "      <th>toss_winner</th>\n",
       "      <th>toss_decision</th>\n",
       "      <th>result</th>\n",
       "      <th>dl_applied</th>\n",
       "      <th>winner</th>\n",
       "      <th>win_by_runs</th>\n",
       "      <th>win_by_wickets</th>\n",
       "      <th>player_of_match</th>\n",
       "      <th>venue</th>\n",
       "      <th>umpire1</th>\n",
       "      <th>umpire2</th>\n",
       "      <th>umpire3</th>\n",
       "    </tr>\n",
       "  </thead>\n",
       "  <tbody>\n",
       "    <tr>\n",
       "      <th>137</th>\n",
       "      <td>138</td>\n",
       "      <td>2</td>\n",
       "      <td>East London</td>\n",
       "      <td>01-05-2009</td>\n",
       "      <td>Mumbai Indians</td>\n",
       "      <td>Kolkata Knight Riders</td>\n",
       "      <td>Mumbai Indians</td>\n",
       "      <td>bat</td>\n",
       "      <td>normal</td>\n",
       "      <td>0</td>\n",
       "      <td>Mumbai Indians</td>\n",
       "      <td>9</td>\n",
       "      <td>0</td>\n",
       "      <td>JP Duminy</td>\n",
       "      <td>Buffalo Park</td>\n",
       "      <td>M Erasmus</td>\n",
       "      <td>SK Tarapore</td>\n",
       "      <td>NaN</td>\n",
       "    </tr>\n",
       "    <tr>\n",
       "      <th>143</th>\n",
       "      <td>144</td>\n",
       "      <td>2</td>\n",
       "      <td>East London</td>\n",
       "      <td>04-05-2009</td>\n",
       "      <td>Chennai Super Kings</td>\n",
       "      <td>Deccan Chargers</td>\n",
       "      <td>Chennai Super Kings</td>\n",
       "      <td>bat</td>\n",
       "      <td>normal</td>\n",
       "      <td>0</td>\n",
       "      <td>Chennai Super Kings</td>\n",
       "      <td>78</td>\n",
       "      <td>0</td>\n",
       "      <td>MS Dhoni</td>\n",
       "      <td>Buffalo Park</td>\n",
       "      <td>BR Doctrove</td>\n",
       "      <td>M Erasmus</td>\n",
       "      <td>NaN</td>\n",
       "    </tr>\n",
       "    <tr>\n",
       "      <th>149</th>\n",
       "      <td>150</td>\n",
       "      <td>2</td>\n",
       "      <td>East London</td>\n",
       "      <td>08-05-2009</td>\n",
       "      <td>Mumbai Indians</td>\n",
       "      <td>Delhi Daredevils</td>\n",
       "      <td>Mumbai Indians</td>\n",
       "      <td>bat</td>\n",
       "      <td>normal</td>\n",
       "      <td>0</td>\n",
       "      <td>Delhi Daredevils</td>\n",
       "      <td>0</td>\n",
       "      <td>7</td>\n",
       "      <td>A Nehra</td>\n",
       "      <td>Buffalo Park</td>\n",
       "      <td>M Erasmus</td>\n",
       "      <td>SK Tarapore</td>\n",
       "      <td>NaN</td>\n",
       "    </tr>\n",
       "  </tbody>\n",
       "</table>\n",
       "</div>\n",
       "      <button class=\"colab-df-convert\" onclick=\"convertToInteractive('df-15742c96-7eb2-4268-8d29-96df159c16ea')\"\n",
       "              title=\"Convert this dataframe to an interactive table.\"\n",
       "              style=\"display:none;\">\n",
       "        \n",
       "  <svg xmlns=\"http://www.w3.org/2000/svg\" height=\"24px\"viewBox=\"0 0 24 24\"\n",
       "       width=\"24px\">\n",
       "    <path d=\"M0 0h24v24H0V0z\" fill=\"none\"/>\n",
       "    <path d=\"M18.56 5.44l.94 2.06.94-2.06 2.06-.94-2.06-.94-.94-2.06-.94 2.06-2.06.94zm-11 1L8.5 8.5l.94-2.06 2.06-.94-2.06-.94L8.5 2.5l-.94 2.06-2.06.94zm10 10l.94 2.06.94-2.06 2.06-.94-2.06-.94-.94-2.06-.94 2.06-2.06.94z\"/><path d=\"M17.41 7.96l-1.37-1.37c-.4-.4-.92-.59-1.43-.59-.52 0-1.04.2-1.43.59L10.3 9.45l-7.72 7.72c-.78.78-.78 2.05 0 2.83L4 21.41c.39.39.9.59 1.41.59.51 0 1.02-.2 1.41-.59l7.78-7.78 2.81-2.81c.8-.78.8-2.07 0-2.86zM5.41 20L4 18.59l7.72-7.72 1.47 1.35L5.41 20z\"/>\n",
       "  </svg>\n",
       "      </button>\n",
       "      \n",
       "  <style>\n",
       "    .colab-df-container {\n",
       "      display:flex;\n",
       "      flex-wrap:wrap;\n",
       "      gap: 12px;\n",
       "    }\n",
       "\n",
       "    .colab-df-convert {\n",
       "      background-color: #E8F0FE;\n",
       "      border: none;\n",
       "      border-radius: 50%;\n",
       "      cursor: pointer;\n",
       "      display: none;\n",
       "      fill: #1967D2;\n",
       "      height: 32px;\n",
       "      padding: 0 0 0 0;\n",
       "      width: 32px;\n",
       "    }\n",
       "\n",
       "    .colab-df-convert:hover {\n",
       "      background-color: #E2EBFA;\n",
       "      box-shadow: 0px 1px 2px rgba(60, 64, 67, 0.3), 0px 1px 3px 1px rgba(60, 64, 67, 0.15);\n",
       "      fill: #174EA6;\n",
       "    }\n",
       "\n",
       "    [theme=dark] .colab-df-convert {\n",
       "      background-color: #3B4455;\n",
       "      fill: #D2E3FC;\n",
       "    }\n",
       "\n",
       "    [theme=dark] .colab-df-convert:hover {\n",
       "      background-color: #434B5C;\n",
       "      box-shadow: 0px 1px 3px 1px rgba(0, 0, 0, 0.15);\n",
       "      filter: drop-shadow(0px 1px 2px rgba(0, 0, 0, 0.3));\n",
       "      fill: #FFFFFF;\n",
       "    }\n",
       "  </style>\n",
       "\n",
       "      <script>\n",
       "        const buttonEl =\n",
       "          document.querySelector('#df-15742c96-7eb2-4268-8d29-96df159c16ea button.colab-df-convert');\n",
       "        buttonEl.style.display =\n",
       "          google.colab.kernel.accessAllowed ? 'block' : 'none';\n",
       "\n",
       "        async function convertToInteractive(key) {\n",
       "          const element = document.querySelector('#df-15742c96-7eb2-4268-8d29-96df159c16ea');\n",
       "          const dataTable =\n",
       "            await google.colab.kernel.invokeFunction('convertToInteractive',\n",
       "                                                     [key], {});\n",
       "          if (!dataTable) return;\n",
       "\n",
       "          const docLinkHtml = 'Like what you see? Visit the ' +\n",
       "            '<a target=\"_blank\" href=https://colab.research.google.com/notebooks/data_table.ipynb>data table notebook</a>'\n",
       "            + ' to learn more about interactive tables.';\n",
       "          element.innerHTML = '';\n",
       "          dataTable['output_type'] = 'display_data';\n",
       "          await google.colab.output.renderOutput(dataTable, element);\n",
       "          const docLink = document.createElement('div');\n",
       "          docLink.innerHTML = docLinkHtml;\n",
       "          element.appendChild(docLink);\n",
       "        }\n",
       "      </script>\n",
       "    </div>\n",
       "  </div>\n",
       "  "
      ],
      "text/plain": [
       "      id Season         city        date                team1  \\\n",
       "137  138      2  East London  01-05-2009       Mumbai Indians   \n",
       "143  144      2  East London  04-05-2009  Chennai Super Kings   \n",
       "149  150      2  East London  08-05-2009       Mumbai Indians   \n",
       "\n",
       "                     team2          toss_winner toss_decision  result  \\\n",
       "137  Kolkata Knight Riders       Mumbai Indians           bat  normal   \n",
       "143        Deccan Chargers  Chennai Super Kings           bat  normal   \n",
       "149       Delhi Daredevils       Mumbai Indians           bat  normal   \n",
       "\n",
       "     dl_applied               winner  win_by_runs  win_by_wickets  \\\n",
       "137           0       Mumbai Indians            9               0   \n",
       "143           0  Chennai Super Kings           78               0   \n",
       "149           0     Delhi Daredevils            0               7   \n",
       "\n",
       "    player_of_match         venue      umpire1      umpire2 umpire3  \n",
       "137       JP Duminy  Buffalo Park    M Erasmus  SK Tarapore     NaN  \n",
       "143        MS Dhoni  Buffalo Park  BR Doctrove    M Erasmus     NaN  \n",
       "149         A Nehra  Buffalo Park    M Erasmus  SK Tarapore     NaN  "
      ]
     },
     "execution_count": 170,
     "metadata": {},
     "output_type": "execute_result"
    }
   ],
   "source": [
    "matches.loc[matches['city'] == 'East London']"
   ]
  },
  {
   "cell_type": "code",
   "execution_count": 174,
   "metadata": {
    "executionInfo": {
     "elapsed": 7,
     "status": "ok",
     "timestamp": 1670510106824,
     "user": {
      "displayName": "Mohit Kumar",
      "userId": "03888987891614882912"
     },
     "user_tz": -330
    },
    "id": "7gODZlw8KRqh"
   },
   "outputs": [],
   "source": [
    "matches1 = matches.copy()"
   ]
  },
  {
   "cell_type": "markdown",
   "metadata": {
    "id": "6VQ818lyK0fP"
   },
   "source": [
    "Funtion to get Lat & Long from City"
   ]
  },
  {
   "cell_type": "markdown",
   "metadata": {
    "id": "G6UVXFTGX8sW"
   },
   "source": [
    "!pip install geocoder --quiet\n",
    "\n",
    "from geopy.geocoders import Nominatim\n",
    "\n",
    "geolocator = Nominatim(user_agent=\"MyApp\")\n",
    "\n",
    "location = geolocator.geocode(\"cityname\")\n",
    "\n",
    "print(\"The latitude of the location is: \", location.latitude)\n",
    "print(\"The longitude of the location is: \", location.longitude)"
   ]
  },
  {
   "cell_type": "code",
   "execution_count": null,
   "metadata": {
    "id": "Jlrv9x32KRjk"
   },
   "outputs": [],
   "source": []
  },
  {
   "cell_type": "code",
   "execution_count": 185,
   "metadata": {
    "colab": {
     "base_uri": "https://localhost:8080/",
     "height": 52
    },
    "executionInfo": {
     "elapsed": 367,
     "status": "ok",
     "timestamp": 1670513990950,
     "user": {
      "displayName": "Mohit Kumar",
      "userId": "03888987891614882912"
     },
     "user_tz": -330
    },
    "id": "IUgio1uTKRfq",
    "outputId": "3e73fc0a-27ad-4ab0-9dbd-bb47d80064ac"
   },
   "outputs": [
    {
     "data": {
      "text/plain": [
       "<Figure size 1296x648 with 0 Axes>"
      ]
     },
     "execution_count": 185,
     "metadata": {},
     "output_type": "execute_result"
    },
    {
     "data": {
      "text/plain": [
       "<Figure size 1296x648 with 0 Axes>"
      ]
     },
     "metadata": {},
     "output_type": "display_data"
    }
   ],
   "source": [
    "plt.figure(figsize=(18,9))"
   ]
  },
  {
   "cell_type": "code",
   "execution_count": 186,
   "metadata": {
    "colab": {
     "base_uri": "https://localhost:8080/",
     "height": 350
    },
    "executionInfo": {
     "elapsed": 777,
     "status": "ok",
     "timestamp": 1670513993652,
     "user": {
      "displayName": "Mohit Kumar",
      "userId": "03888987891614882912"
     },
     "user_tz": -330
    },
    "id": "YFJYkEvFGzTg",
    "outputId": "602e7301-69ff-4f13-8ebb-5fa4bdf54fca"
   },
   "outputs": [
    {
     "data": {
      "text/plain": [
       "<matplotlib.axes._subplots.AxesSubplot at 0x7f431b313c40>"
      ]
     },
     "execution_count": 186,
     "metadata": {},
     "output_type": "execute_result"
    },
    {
     "data": {
      "image/png": "[encoded data removed]",
      "text/plain": [
       "<Figure size 432x288 with 1 Axes>"
      ]
     },
     "metadata": {
      "needs_background": "light"
     },
     "output_type": "display_data"
    }
   ],
   "source": [
    "matches['city'].value_counts().plot(kind='bar', color = 'red')"
   ]
  },
  {
   "cell_type": "code",
   "execution_count": null,
   "metadata": {
    "id": "zphHRFW0GzQ1"
   },
   "outputs": [],
   "source": []
  },
  {
   "cell_type": "markdown",
   "metadata": {
    "id": "D2Iat84aYqFP"
   },
   "source": [
    "### Match Column"
   ]
  },
  {
   "cell_type": "markdown",
   "metadata": {
    "id": "yKR3jhFoYyZx"
   },
   "source": [
    "Number of matches played in each IPL season"
   ]
  },
  {
   "cell_type": "code",
   "execution_count": 187,
   "metadata": {
    "colab": {
     "base_uri": "https://localhost:8080/",
     "height": 372
    },
    "executionInfo": {
     "elapsed": 1319,
     "status": "ok",
     "timestamp": 1670514024172,
     "user": {
      "displayName": "Mohit Kumar",
      "userId": "03888987891614882912"
     },
     "user_tz": -330
    },
    "id": "3uZIDlTVYusG",
    "outputId": "77f4696a-9006-47b2-acb3-ae528824d10c"
   },
   "outputs": [
    {
     "data": {
      "text/plain": [
       "Text(0.5, 1.0, 'Number of matches played in each IPL season')"
      ]
     },
     "execution_count": 187,
     "metadata": {},
     "output_type": "execute_result"
    },
    {
     "data": {
      "image/png": "[encoded data removed]",
      "text/plain": [
       "<Figure size 864x360 with 1 Axes>"
      ]
     },
     "metadata": {
      "needs_background": "light"
     },
     "output_type": "display_data"
    }
   ],
   "source": [
    "plt.figure(figsize=(12,5))\n",
    "sns.countplot(x='Season',\n",
    "              data=matches,\n",
    "              order = matches['Season'].value_counts().index.sort_values()\n",
    "              )\n",
    "plt.xlabel('Season',fontsize=12)\n",
    "plt.ylabel('No: of matches',fontsize=12)\n",
    "plt.title('Number of matches played in each IPL season',fontsize=16)"
   ]
  },
  {
   "cell_type": "markdown",
   "metadata": {
    "id": "xOiW_ZrCZfJP"
   },
   "source": [
    "Most no of matches won by a team"
   ]
  },
  {
   "cell_type": "code",
   "execution_count": 200,
   "metadata": {
    "colab": {
     "base_uri": "https://localhost:8080/",
     "height": 535
    },
    "executionInfo": {
     "elapsed": 944,
     "status": "ok",
     "timestamp": 1670514562549,
     "user": {
      "displayName": "Mohit Kumar",
      "userId": "03888987891614882912"
     },
     "user_tz": -330
    },
    "id": "i_QTwTg6ZnQ-",
    "outputId": "d9d46523-f3d0-467e-b3cb-bc851c9c016a"
   },
   "outputs": [
    {
     "data": {
      "text/plain": [
       "Text(0.5, 1.0, 'Number of matches won by a team IPL')"
      ]
     },
     "execution_count": 200,
     "metadata": {},
     "output_type": "execute_result"
    },
    {
     "data": {
      "image/png": "[encoded data removed]",
      "text/plain": [
       "<Figure size 1008x576 with 1 Axes>"
      ]
     },
     "metadata": {
      "needs_background": "light"
     },
     "output_type": "display_data"
    }
   ],
   "source": [
    "plt.figure(figsize=(14,8))\n",
    "sns.countplot(y='winner',\n",
    "              data=matches,\n",
    "              order = matches['winner'].value_counts().index,\n",
    "               palette = 'cubehelix'\n",
    "              )\n",
    "plt.xlabel('No. of wins',fontsize=12)\n",
    "plt.ylabel('Team',fontsize=12)\n",
    "plt.title('Number of matches won by a team IPL',fontsize=16)"
   ]
  },
  {
   "cell_type": "markdown",
   "metadata": {
    "id": "0D3FdlZab41i"
   },
   "source": [
    "### Stadium Column"
   ]
  },
  {
   "cell_type": "markdown",
   "metadata": {
    "id": "_vXBcE-db8-l"
   },
   "source": [
    "No of matches played in stadium"
   ]
  },
  {
   "cell_type": "code",
   "execution_count": 202,
   "metadata": {
    "colab": {
     "base_uri": "https://localhost:8080/",
     "height": 915
    },
    "executionInfo": {
     "elapsed": 2099,
     "status": "ok",
     "timestamp": 1670515243955,
     "user": {
      "displayName": "Mohit Kumar",
      "userId": "03888987891614882912"
     },
     "user_tz": -330
    },
    "id": "maL2ukiob30i",
    "outputId": "57de1b19-fc44-4d57-be42-a4e74f6675ff"
   },
   "outputs": [
    {
     "data": {
      "text/plain": [
       "Text(0.5, 1.0, 'Number of matches played in a stadium in IPL')"
      ]
     },
     "execution_count": 202,
     "metadata": {},
     "output_type": "execute_result"
    },
    {
     "data": {
      "image/png": "[encoded data removed]",
      "text/plain": [
       "<Figure size 1008x1080 with 1 Axes>"
      ]
     },
     "metadata": {
      "needs_background": "light"
     },
     "output_type": "display_data"
    }
   ],
   "source": [
    "plt.figure(figsize=(14,15))\n",
    "sns.countplot(y='venue',\n",
    "              data=matches,\n",
    "              order = matches['venue'].value_counts().index,\n",
    "               palette = 'Spectral'\n",
    "              )\n",
    "plt.xlabel('No. of matches',fontsize=12)\n",
    "plt.ylabel('Stadium',fontsize=12)\n",
    "plt.title('Number of matches played in a stadium in IPL',fontsize=16)"
   ]
  },
  {
   "cell_type": "markdown",
   "metadata": {
    "id": "1RhDDfvoegtt"
   },
   "source": [
    "### Toss Decisions"
   ]
  },
  {
   "cell_type": "code",
   "execution_count": 206,
   "metadata": {
    "colab": {
     "base_uri": "https://localhost:8080/",
     "height": 428
    },
    "executionInfo": {
     "elapsed": 9,
     "status": "ok",
     "timestamp": 1670515783339,
     "user": {
      "displayName": "Mohit Kumar",
      "userId": "03888987891614882912"
     },
     "user_tz": -330
    },
    "id": "0MDznG8Aekh2",
    "outputId": "87e9c10b-39e6-46ce-8e22-4e0d38d5daaf"
   },
   "outputs": [
    {
     "data": {
      "text/plain": [
       "<matplotlib.patches.Circle at 0x7f431a90ed60>"
      ]
     },
     "execution_count": 206,
     "metadata": {},
     "output_type": "execute_result"
    },
    {
     "data": {
      "image/png": "[encoded data removed]",
      "text/plain": [
       "<Figure size 504x504 with 1 Axes>"
      ]
     },
     "metadata": {},
     "output_type": "display_data"
    }
   ],
   "source": [
    "plt.figure(figsize=(7,7))\n",
    "sizes = matches.toss_decision.value_counts()\n",
    "labels = matches.toss_decision.value_counts().index\n",
    "plt.pie(sizes,colors = ['#D153BA','#CE08AA'],\n",
    "         labels=labels,\n",
    "         autopct='%1.1f%%',\n",
    "         startangle=90,\n",
    "         pctdistance=0.75,\n",
    "         explode = (0.025,0.025))\n",
    "\n",
    "#draw white circle\n",
    "centre_circle = plt.Circle((0,0),0.60,fc='white')\n",
    "fig = plt.gcf()\n",
    "fig.gca().add_artist(centre_circle)"
   ]
  },
  {
   "cell_type": "markdown",
   "metadata": {
    "id": "wvruSM9igVoU"
   },
   "source": [
    "Toss Decision to field or bat in each IPL season"
   ]
  },
  {
   "cell_type": "code",
   "execution_count": 212,
   "metadata": {
    "colab": {
     "base_uri": "https://localhost:8080/",
     "height": 535
    },
    "executionInfo": {
     "elapsed": 1089,
     "status": "ok",
     "timestamp": 1670516029921,
     "user": {
      "displayName": "Mohit Kumar",
      "userId": "03888987891614882912"
     },
     "user_tz": -330
    },
    "id": "VgIcF-JegWvb",
    "outputId": "e61d01c7-f9a0-440e-b64b-0405920aa7d2"
   },
   "outputs": [
    {
     "data": {
      "text/plain": [
       "Text(0.5, 1.0, 'Decision to field or bat in each IPL season')"
      ]
     },
     "execution_count": 212,
     "metadata": {},
     "output_type": "execute_result"
    },
    {
     "data": {
      "image/png": "[encoded data removed]",
      "text/plain": [
       "<Figure size 1584x576 with 1 Axes>"
      ]
     },
     "metadata": {
      "needs_background": "light"
     },
     "output_type": "display_data"
    }
   ],
   "source": [
    "plt.figure(figsize=(22,8))\n",
    "sns.countplot(x='Season',\n",
    "              hue='toss_decision',\n",
    "              data = matches,\n",
    "              order = matches['Season'].value_counts().index.sort_values(),\n",
    "              palette ='rocket')\n",
    "plt.xlabel('Season',fontsize=12)\n",
    "plt.ylabel('Count',fontsize=12)\n",
    "plt.title('Decision to field or bat in each IPL season', fontsize=16)"
   ]
  },
  {
   "cell_type": "markdown",
   "metadata": {
    "id": "deISuv9chEzY"
   },
   "source": [
    "### Player of the match"
   ]
  },
  {
   "cell_type": "code",
   "execution_count": 217,
   "metadata": {
    "colab": {
     "base_uri": "https://localhost:8080/",
     "height": 590
    },
    "executionInfo": {
     "elapsed": 469,
     "status": "ok",
     "timestamp": 1670516264956,
     "user": {
      "displayName": "Mohit Kumar",
      "userId": "03888987891614882912"
     },
     "user_tz": -330
    },
    "id": "OQW9HagLhHwl",
    "outputId": "c47caf6d-8867-45b9-f214-35a04ca057c8"
   },
   "outputs": [
    {
     "name": "stderr",
     "output_type": "stream",
     "text": [
      "/usr/local/lib/python3.8/dist-packages/seaborn/_decorators.py:36: FutureWarning: Pass the following variables as keyword args: x, y. From version 0.12, the only valid positional argument will be `data`, and passing other arguments without an explicit keyword will result in an error or misinterpretation.\n",
      "  warnings.warn(\n"
     ]
    },
    {
     "data": {
      "text/plain": [
       "Text(0, 0.5, 'Count of Plyer of the match award')"
      ]
     },
     "execution_count": 217,
     "metadata": {},
     "output_type": "execute_result"
    },
    {
     "data": {
      "image/png": "[encoded data removed]",
      "text/plain": [
       "<Figure size 1584x576 with 1 Axes>"
      ]
     },
     "metadata": {
      "needs_background": "light"
     },
     "output_type": "display_data"
    }
   ],
   "source": [
    "plt.figure(figsize=(22,8))\n",
    "\n",
    "player_of_match = matches['player_of_match'].value_counts()[:15]\n",
    "sns.barplot(player_of_match.index,\n",
    "            player_of_match.values,\n",
    "            palette='rocket')\n",
    "\n",
    "plt.title(\"Player of the Match\",fontsize=15)\n",
    "plt.xlabel('Player',fontsize=12)\n",
    "plt.ylabel('Count of Plyer of the match award',fontsize=12)"
   ]
  },
  {
   "cell_type": "markdown",
   "metadata": {
    "id": "dizs6cKv55q-"
   },
   "source": [
    "## Most Runs Average Strike Rate Table"
   ]
  },
  {
   "cell_type": "code",
   "execution_count": 218,
   "metadata": {
    "colab": {
     "base_uri": "https://localhost:8080/"
    },
    "executionInfo": {
     "elapsed": 11,
     "status": "ok",
     "timestamp": 1670516486783,
     "user": {
      "displayName": "Mohit Kumar",
      "userId": "03888987891614882912"
     },
     "user_tz": -330
    },
    "id": "0B1XSpBn6EgG",
    "outputId": "93830541-f9af-444d-d88e-727facb74ed3"
   },
   "outputs": [
    {
     "name": "stdout",
     "output_type": "stream",
     "text": [
      "[jovian] Detected Colab notebook...\u001b[0m\n",
      "[jovian] jovian.commit() is no longer required on Google Colab. If you ran this notebook from Jovian, \n",
      "then just save this file in Colab using Ctrl+S/Cmd+S and it will be updated on Jovian. \n",
      "Also, you can also delete this cell, it's no longer necessary.\u001b[0m\n"
     ]
    }
   ],
   "source": [
    "jovian.commit()"
   ]
  },
  {
   "cell_type": "code",
   "execution_count": null,
   "metadata": {
    "id": "HrSUzPXJiq9T"
   },
   "outputs": [],
   "source": []
  }
 ],
 "metadata": {
  "colab": {
   "provenance": []
  },
  "language_info": {
   "codemirror_mode": {
    "name": "ipython",
    "version": 3
   },
   "file_extension": ".py",
   "mimetype": "text/x-python",
   "name": "python",
   "nbconvert_exporter": "python",
   "pygments_lexer": "ipython3",
   "version": "3.7.6"
  }
 },
 "nbformat": 4,
 "nbformat_minor": 0
}